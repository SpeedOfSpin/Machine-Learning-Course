{
  "nbformat": 4,
  "nbformat_minor": 0,
  "metadata": {
    "colab": {
      "name": "EvaluationMetrics.ipynb",
      "provenance": [],
      "authorship_tag": "ABX9TyN6WIlnP0+vjDXs1rC2fWyC",
      "include_colab_link": true
    },
    "kernelspec": {
      "name": "python3",
      "display_name": "Python 3"
    },
    "language_info": {
      "name": "python"
    }
  },
  "cells": [
    {
      "cell_type": "markdown",
      "metadata": {
        "id": "view-in-github",
        "colab_type": "text"
      },
      "source": [
        "<a href=\"https://colab.research.google.com/github/besherh/Machine-Learning-Course/blob/master/ModelEvaluation/EvaluationMetrics.ipynb\" target=\"_parent\"><img src=\"https://colab.research.google.com/assets/colab-badge.svg\" alt=\"Open In Colab\"/></a>"
      ]
    },
    {
      "cell_type": "code",
      "metadata": {
        "colab": {
          "base_uri": "https://localhost:8080/",
          "height": 265
        },
        "id": "_Y38Gv_NumYZ",
        "outputId": "8d7c5e85-46f2-40a0-ab93-5a8cbd8dc1ef"
      },
      "source": [
        "#Dummy data for classification\n",
        "import seaborn as sns \n",
        "import matplotlib.pyplot as plt\n",
        "\n",
        "%matplotlib inline\n",
        "\n",
        "from sklearn.datasets import make_blobs\n",
        "\n",
        "data, labels = make_blobs(n_features=2, centers=2,cluster_std=2,random_state=3)\n",
        "\n",
        "#carray-like or list of colors or color, optional\n",
        "\n",
        "plt.scatter(data[:,0], data[:,1], c = labels);"
      ],
      "execution_count": 5,
      "outputs": [
        {
          "output_type": "display_data",
          "data": {
            "image/png": "[encoded data removed]",
            "text/plain": [
              "<Figure size 432x288 with 1 Axes>"
            ]
          },
          "metadata": {
            "needs_background": "light"
          }
        }
      ]
    },
    {
      "cell_type": "code",
      "metadata": {
        "id": "p4HIeOCovCJ7"
      },
      "source": [
        "#Attempt to Classify Data\n",
        "#Import LinearSVC\n",
        "from sklearn.svm import SVC\n",
        "\n",
        "#Create instance of Support Vector Classifier\n",
        "svc = SVC()\n",
        "\n",
        "#Fit estimator to 70% of the data\n",
        "svc.fit(data[:70], labels[:70])\n",
        "\n",
        "#Predict final 30%\n",
        "y_pred = svc.predict(data[70:])\n",
        "\n",
        "#Establish true y values\n",
        "y_true = labels[70:]\n"
      ],
      "execution_count": 7,
      "outputs": []
    },
    {
      "cell_type": "markdown",
      "metadata": {
        "id": "p-WA_QUWvN3D"
      },
      "source": [
        "#Metrics\n",
        "Precision Score\n",
        "\n",
        "TP - True Positives\n",
        "\n",
        "FP - False Positives\n",
        "\n",
        "Precision - Accuracy of positive predictions.\n",
        "\n",
        "Precision = TP/(TP + FP)\n",
        "\n",
        "\n"
      ]
    },
    {
      "cell_type": "code",
      "metadata": {
        "colab": {
          "base_uri": "https://localhost:8080/"
        },
        "id": "lxaHwJMfvO8X",
        "outputId": "7c72d566-c152-421e-e1da-8542b8fc961c"
      },
      "source": [
        "from sklearn.metrics import precision_score\n",
        "\n",
        "print(\"Precision score: {}\".format(precision_score(y_true,y_pred)))\n"
      ],
      "execution_count": 8,
      "outputs": [
        {
          "output_type": "stream",
          "name": "stdout",
          "text": [
            "Precision score: 1.0\n"
          ]
        }
      ]
    },
    {
      "cell_type": "markdown",
      "metadata": {
        "id": "fsmJDy45vbOi"
      },
      "source": [
        "#Recall Score\n",
        "\n",
        "FN - False Negatives\n",
        "\n",
        "Recall (atrue positive rate): Fraction of positives That were correctly identified.\n",
        "\n",
        "Recall = TP/(TP+FN)\n",
        "\n"
      ]
    },
    {
      "cell_type": "code",
      "metadata": {
        "colab": {
          "base_uri": "https://localhost:8080/"
        },
        "id": "RSyKdVfJvZRm",
        "outputId": "09c38b0a-0b05-472a-df1a-b983a4a57df9"
      },
      "source": [
        "from sklearn.metrics import recall_score\n",
        "\n",
        "print(\"Recall score: {}\".format(recall_score(y_true,y_pred)))\n"
      ],
      "execution_count": 9,
      "outputs": [
        {
          "output_type": "stream",
          "name": "stdout",
          "text": [
            "Recall score: 0.9333333333333333\n"
          ]
        }
      ]
    },
    {
      "cell_type": "markdown",
      "metadata": {
        "id": "kua6no3uwHpA"
      },
      "source": [
        "#Accuracy Score\n"
      ]
    },
    {
      "cell_type": "code",
      "metadata": {
        "colab": {
          "base_uri": "https://localhost:8080/"
        },
        "id": "Qm1JV4RCwJhy",
        "outputId": "90715ca8-9cc0-43ed-d3b5-8291c6fe78d6"
      },
      "source": [
        "from sklearn.metrics import accuracy_score\n",
        "\n",
        "print(\"Accuracy score: {}\".format(accuracy_score(y_true,y_pred)))\n"
      ],
      "execution_count": 10,
      "outputs": [
        {
          "output_type": "stream",
          "name": "stdout",
          "text": [
            "Accuracy score: 0.9666666666666667\n"
          ]
        }
      ]
    },
    {
      "cell_type": "markdown",
      "metadata": {
        "id": "6s_ekAZ1wLnO"
      },
      "source": [
        "#Confusion Matrix\n"
      ]
    },
    {
      "cell_type": "code",
      "metadata": {
        "colab": {
          "base_uri": "https://localhost:8080/"
        },
        "id": "KU70s7ATwM1_",
        "outputId": "5dfb716f-2c01-4643-8b9e-a013d74e86f6"
      },
      "source": [
        "from sklearn.metrics import confusion_matrix\n",
        "import pandas as pd\n",
        "\n",
        "confusion_df = pd.DataFrame(confusion_matrix(y_true,y_pred),\n",
        "             columns=[\"Predicted Class \" + str(class_name) for class_name in [0,1]],\n",
        "             index = [\"Class \" + str(class_name) for class_name in [0,1]])\n",
        "\n",
        "print(confusion_df)\n"
      ],
      "execution_count": 11,
      "outputs": [
        {
          "output_type": "stream",
          "name": "stdout",
          "text": [
            "         Predicted Class 0  Predicted Class 1\n",
            "Class 0                 15                  0\n",
            "Class 1                  1                 14\n"
          ]
        }
      ]
    },
    {
      "cell_type": "markdown",
      "metadata": {
        "id": "V-W_RgOTwTzO"
      },
      "source": [
        "#Classification Report\n"
      ]
    },
    {
      "cell_type": "code",
      "metadata": {
        "colab": {
          "base_uri": "https://localhost:8080/"
        },
        "id": "KWl8CWZEwUhH",
        "outputId": "2ea75ddc-7ad2-41bc-cbc6-8cd6b5c6f575"
      },
      "source": [
        "from sklearn.metrics import classification_report\n",
        "\n",
        "print(classification_report(y_true,y_pred))\n"
      ],
      "execution_count": 12,
      "outputs": [
        {
          "output_type": "stream",
          "name": "stdout",
          "text": [
            "              precision    recall  f1-score   support\n",
            "\n",
            "           0       0.94      1.00      0.97        15\n",
            "           1       1.00      0.93      0.97        15\n",
            "\n",
            "    accuracy                           0.97        30\n",
            "   macro avg       0.97      0.97      0.97        30\n",
            "weighted avg       0.97      0.97      0.97        30\n",
            "\n"
          ]
        }
      ]
    },
    {
      "cell_type": "markdown",
      "metadata": {
        "id": "WyxW7Ue6wYIL"
      },
      "source": [
        "#F1 Score\n"
      ]
    },
    {
      "cell_type": "code",
      "metadata": {
        "colab": {
          "base_uri": "https://localhost:8080/"
        },
        "id": "of1GO1DGwZcH",
        "outputId": "627ed880-974f-4afd-e596-50e02beef714"
      },
      "source": [
        "from sklearn.metrics import f1_score\n",
        "\n",
        "print(\"F1 Score: {}\".format(f1_score(y_true,y_pred)))\n"
      ],
      "execution_count": 13,
      "outputs": [
        {
          "output_type": "stream",
          "name": "stdout",
          "text": [
            "F1 Score: 0.9655172413793104\n"
          ]
        }
      ]
    },
    {
      "cell_type": "markdown",
      "metadata": {
        "id": "c7DWqvqDwdI-"
      },
      "source": [
        "#Accuracy Score\n"
      ]
    },
    {
      "cell_type": "code",
      "metadata": {
        "colab": {
          "base_uri": "https://localhost:8080/"
        },
        "id": "Qwc3pesIwgPW",
        "outputId": "55e9dc8e-45fc-4abf-8748-7eced1a295db"
      },
      "source": [
        "from sklearn.metrics import accuracy_score\n",
        "\n",
        "print(\"Accuracy score: {}\".format(accuracy_score(y_true,y_pred)))\n"
      ],
      "execution_count": 14,
      "outputs": [
        {
          "output_type": "stream",
          "name": "stdout",
          "text": [
            "Accuracy score: 0.9666666666666667\n"
          ]
        }
      ]
    },
    {
      "cell_type": "markdown",
      "metadata": {
        "id": "g7xuNTb5w5Ny"
      },
      "source": [
        "https://machinelearningmastery.com/roc-curves-and-precision-recall-curves-for-classification-in-python/\n",
        "\n",
        "To check how to plot  ROC"
      ]
    }
  ]
}