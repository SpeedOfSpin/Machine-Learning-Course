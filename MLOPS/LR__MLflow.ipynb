{
  "nbformat": 4,
  "nbformat_minor": 0,
  "metadata": {
    "colab": {
      "provenance": [],
      "include_colab_link": true
    },
    "kernelspec": {
      "name": "python3",
      "display_name": "Python 3"
    },
    "language_info": {
      "name": "python"
    }
  },
  "cells": [
    {
      "cell_type": "markdown",
      "metadata": {
        "id": "view-in-github",
        "colab_type": "text"
      },
      "source": [
        "<a href=\"https://colab.research.google.com/github/besherh/Machine-Learning-Course/blob/master/MLOPS/LR__MLflow.ipynb\" target=\"_parent\"><img src=\"https://colab.research.google.com/assets/colab-badge.svg\" alt=\"Open In Colab\"/></a>"
      ]
    },
    {
      "cell_type": "markdown",
      "metadata": {
        "id": "LdSp3WikkbFk"
      },
      "source": [
        "# MLflow + Colab – Example project\n",
        "This project shows how you can easily log experiments with Google Colab, directly to an MLflow remote.\n",
        "\n",
        "It uses DAGsHub MLflow remote server, which is a free hosted MLflow remote.\n",
        "\n",
        "Instructions:\n",
        "1. [Sign up to DAGsHub](https://dagshub.com/user/sign_up)\n",
        "1. [Create an access token](https://dagshub.com/user/settings/tokens)\n",
        "1. [Create a new project](https://dagshub.com/repo/create)\n",
        "1. [Open the notebook in Google Colab](https://dagshub.com/Dean/mlflow-colab-example/src/master/mlflow-colab.ipynb)\n",
        "1. Run the cell\n",
        "1. Fill in your DAGsHub username, access token and project name.\n",
        "1. Run the visualization cell if you want to see your experiments inside Colab."
      ]
    },
    {
      "cell_type": "code",
      "metadata": {
        "id": "kXIk98FWxT6C",
        "colab": {
          "base_uri": "https://localhost:8080/"
        },
        "outputId": "cd45d8d2-b901-446b-88ee-b74b4d674f3e"
      },
      "source": [
        "!pip install mlflow --quiet\n",
        "\n",
        "import mlflow\n",
        "import os\n",
        "from getpass import getpass\n",
        "\n",
        "os.environ['MLFLOW_TRACKING_USERNAME'] = input()\n",
        "os.environ['MLFLOW_TRACKING_PASSWORD'] = getpass('')\n",
        "os.environ['MLFLOW_TRACKING_PROJECTNAME'] = input('')\n",
        "\n",
        "mlflow.set_tracking_uri(f'https://dagshub.com/' + os.environ['MLFLOW_TRACKING_USERNAME'] \n",
        "                        + '/' + os.environ['MLFLOW_TRACKING_PROJECTNAME'] + '.mlflow')\n",
        "\n",
        "with mlflow.start_run(run_name=\"MLflow on Colab\"):\n",
        "  mlflow.log_metric(\"m1\", 2.0)\n",
        "  mlflow.log_param(\"p1\", \"mlflow-colab\")"
      ],
      "execution_count": 5,
      "outputs": [
        {
          "name": "stdout",
          "output_type": "stream",
          "text": [
            "\u001b[K     |████████████████████████████████| 16.5 MB 5.3 MB/s \n",
            "\u001b[K     |████████████████████████████████| 77 kB 5.8 MB/s \n",
            "\u001b[K     |████████████████████████████████| 182 kB 56.9 MB/s \n",
            "\u001b[K     |████████████████████████████████| 209 kB 55.1 MB/s \n",
            "\u001b[K     |████████████████████████████████| 79 kB 7.4 MB/s \n",
            "\u001b[K     |████████████████████████████████| 575 kB 63.5 MB/s \n",
            "\u001b[K     |████████████████████████████████| 147 kB 77.4 MB/s \n",
            "\u001b[K     |████████████████████████████████| 78 kB 7.5 MB/s \n",
            "\u001b[K     |████████████████████████████████| 62 kB 1.4 MB/s \n",
            "\u001b[K     |████████████████████████████████| 140 kB 75.4 MB/s \n",
            "\u001b[K     |████████████████████████████████| 55 kB 3.2 MB/s \n",
            "\u001b[K     |████████████████████████████████| 62 kB 1.2 MB/s \n",
            "\u001b[?25h  Building wheel for databricks-cli (setup.py) ... \u001b[?25l\u001b[?25hdone\n",
            "besher.alhalabi\n",
            "··········\n",
            "mlops_demo\n"
          ]
        }
      ]
    },
    {
      "cell_type": "code",
      "metadata": {
        "colab": {
          "base_uri": "https://localhost:8080/",
          "height": 621
        },
        "id": "4kK5ZgqBiMe1",
        "outputId": "99a82675-e351-472f-e913-08baa91f8099"
      },
      "source": [
        "# See your experiments table inside Colab!\n",
        "import IPython\n",
        "display(IPython.display.IFrame(\"https://dagshub.com/\"+ os.environ['MLFLOW_TRACKING_USERNAME'] \n",
        "                        + '/' + os.environ['MLFLOW_TRACKING_PROJECTNAME'] + \"/experiments/#/\",'100%',600))"
      ],
      "execution_count": 6,
      "outputs": [
        {
          "output_type": "display_data",
          "data": {
            "text/plain": [
              "<IPython.lib.display.IFrame at 0x7fa78110e340>"
            ],
            "text/html": [
              "\n",
              "        <iframe\n",
              "            width=\"100%\"\n",
              "            height=\"600\"\n",
              "            src=\"https://dagshub.com/besher.alhalabi/mlops_demo/experiments/#/\"\n",
              "            frameborder=\"0\"\n",
              "            allowfullscreen\n",
              "        ></iframe>\n",
              "        "
            ]
          },
          "metadata": {}
        }
      ]
    },
    {
      "cell_type": "code",
      "source": [
        "!pip list | grep mlflow"
      ],
      "metadata": {
        "colab": {
          "base_uri": "https://localhost:8080/"
        },
        "id": "2g08VifY0Htm",
        "outputId": "14bd37fa-4281-463c-bb19-337d487faf08"
      },
      "execution_count": 7,
      "outputs": [
        {
          "output_type": "stream",
          "name": "stdout",
          "text": [
            "mlflow                        2.0.1\n"
          ]
        }
      ]
    },
    {
      "cell_type": "code",
      "source": [
        "import os\n",
        "import warnings\n",
        "import sys\n",
        "\n",
        "import pandas as pd\n",
        "import numpy as np\n",
        "from sklearn.metrics import mean_squared_error, mean_absolute_error, r2_score\n",
        "from sklearn.model_selection import train_test_split\n",
        "from sklearn.linear_model import ElasticNet\n",
        "from urllib.parse import urlparse\n",
        "import mlflow\n",
        "import mlflow.sklearn\n",
        "\n",
        "\n"
      ],
      "metadata": {
        "id": "HbGjNsqw0y2A"
      },
      "execution_count": 8,
      "outputs": []
    },
    {
      "cell_type": "code",
      "source": [
        "def eval_metrics(actual, pred):\n",
        "    rmse = np.sqrt(mean_squared_error(actual, pred))\n",
        "    mae = mean_absolute_error(actual, pred)\n",
        "    r2 = r2_score(actual, pred)\n",
        "    return rmse, mae, r2\n"
      ],
      "metadata": {
        "id": "6icu4C7K_TR0"
      },
      "execution_count": 9,
      "outputs": []
    },
    {
      "cell_type": "code",
      "source": [
        "csv_url = \"http://archive.ics.uci.edu/ml/machine-learning-databases/wine-quality/winequality-red.csv\"\n",
        "data = pd.read_csv(csv_url, sep=\";\")\n"
      ],
      "metadata": {
        "id": "RhCLvxXy_XPg"
      },
      "execution_count": 10,
      "outputs": []
    },
    {
      "cell_type": "code",
      "source": [
        "# Split the data into training and test sets. (0.75, 0.25) split.\n",
        "train, test = train_test_split(data)\n",
        "\n",
        " # The predicted column is \"quality\" which is a scalar from [3, 9]\n",
        "train_x = train.drop([\"quality\"], axis=1)\n",
        "test_x = test.drop([\"quality\"], axis=1)\n",
        "train_y = train[[\"quality\"]]\n",
        "test_y = test[[\"quality\"]]"
      ],
      "metadata": {
        "id": "SXTexeSgAHzO"
      },
      "execution_count": 11,
      "outputs": []
    },
    {
      "cell_type": "code",
      "source": [
        "alpha = 0.1\n",
        "l1_ratio = 0.1\n"
      ],
      "metadata": {
        "id": "DH4a92ofANI5"
      },
      "execution_count": 17,
      "outputs": []
    },
    {
      "cell_type": "code",
      "source": [
        " with mlflow.start_run():\n",
        "        lr = ElasticNet(alpha=alpha, l1_ratio=l1_ratio, random_state=42)\n",
        "        lr.fit(train_x, train_y)\n",
        "\n",
        "        predicted_qualities = lr.predict(test_x)\n",
        "\n",
        "        (rmse, mae, r2) = eval_metrics(test_y, predicted_qualities)\n",
        "\n",
        "        print(\"Elasticnet model (alpha=%f, l1_ratio=%f):\" % (alpha, l1_ratio))\n",
        "        print(\"  RMSE: %s\" % rmse)\n",
        "        print(\"  MAE: %s\" % mae)\n",
        "\n",
        "        mlflow.log_param(\"alpha\", alpha)\n",
        "        mlflow.log_param(\"l1_ratio\", l1_ratio)\n",
        "        mlflow.log_metric(\"rmse\", rmse)\n",
        "        mlflow.log_metric(\"mae\", mae)\n",
        "\n",
        "        tracking_url_type_store = urlparse(mlflow.get_tracking_uri()).scheme\n",
        "\n",
        "        # Model registry does not work with file store\n",
        "        if tracking_url_type_store != \"file\":\n",
        "\n",
        "            # Register the model\n",
        "            # There are other ways to use the Model Registry, which depends on the use case,\n",
        "            # please refer to the doc for more information:\n",
        "            # https://mlflow.org/docs/latest/model-registry.html#api-workflow\n",
        "            mlflow.sklearn.log_model(lr, \"model\", registered_model_name=\"ElasticnetWineModel\")\n",
        "        else:\n",
        "            mlflow.sklearn.log_model(lr, \"model\")"
      ],
      "metadata": {
        "colab": {
          "base_uri": "https://localhost:8080/"
        },
        "id": "ZwExrRg_AVPV",
        "outputId": "97ae782b-7d0d-49af-cfa7-fff87054b706"
      },
      "execution_count": 18,
      "outputs": [
        {
          "output_type": "stream",
          "name": "stdout",
          "text": [
            "Elasticnet model (alpha=0.100000, l1_ratio=0.100000):\n",
            "  RMSE: 0.697078353435743\n",
            "  MAE: 0.5446639367673861\n",
            "  R2: 0.31170617822346913\n"
          ]
        },
        {
          "output_type": "stream",
          "name": "stderr",
          "text": [
            "Successfully registered model ''.\n",
            "2022/12/07 19:16:16 INFO mlflow.tracking._model_registry.client: Waiting up to 300 seconds for model version to finish creation.                     Model name: ElasticnetWineModel, version 3\n",
            "Created version '3' of model 'ElasticnetWineModel'.\n"
          ]
        }
      ]
    }
  ]
}