{
  "nbformat": 4,
  "nbformat_minor": 0,
  "metadata": {
    "colab": {
      "provenance": [],
      "include_colab_link": true
    },
    "kernelspec": {
      "name": "python3",
      "display_name": "Python 3"
    },
    "language_info": {
      "name": "python"
    }
  },
  "cells": [
    {
      "cell_type": "markdown",
      "metadata": {
        "id": "view-in-github",
        "colab_type": "text"
      },
      "source": [
        "<a href=\"https://colab.research.google.com/github/besherh/Machine-Learning-Course/blob/master/MLOPS/Hello_MLflow.ipynb\" target=\"_parent\"><img src=\"https://colab.research.google.com/assets/colab-badge.svg\" alt=\"Open In Colab\"/></a>"
      ]
    },
    {
      "cell_type": "markdown",
      "metadata": {
        "id": "LdSp3WikkbFk"
      },
      "source": [
        "# MLflow + Colab – Example project\n",
        "This project shows how you can easily log experiments with Google Colab, directly to an MLflow remote.\n",
        "\n",
        "It uses DAGsHub MLflow remote server, which is a free hosted MLflow remote.\n",
        "\n",
        "Instructions:\n",
        "1. [Sign up to DAGsHub](https://dagshub.com/user/sign_up)\n",
        "1. [Create an access token](https://dagshub.com/user/settings/tokens)\n",
        "1. [Create a new project](https://dagshub.com/repo/create)\n",
        "1. [Open the notebook in Google Colab](https://dagshub.com/Dean/mlflow-colab-example/src/master/mlflow-colab.ipynb)\n",
        "1. Run the cell\n",
        "1. Fill in your DAGsHub username, access token and project name.\n",
        "1. Run the visualization cell if you want to see your experiments inside Colab."
      ]
    },
    {
      "cell_type": "code",
      "metadata": {
        "id": "kXIk98FWxT6C",
        "colab": {
          "base_uri": "https://localhost:8080/"
        },
        "outputId": "2d6241ba-11d9-4705-c428-b736735ac0e2"
      },
      "source": [
        "!pip install mlflow --quiet\n",
        "\n",
        "import mlflow\n",
        "import os\n",
        "from getpass import getpass\n",
        "\n",
        "os.environ['MLFLOW_TRACKING_USERNAME'] = input()\n",
        "os.environ['MLFLOW_TRACKING_PASSWORD'] = getpass('')\n",
        "os.environ['MLFLOW_TRACKING_PROJECTNAME'] = input('')\n",
        "\n",
        "mlflow.set_tracking_uri(f'https://dagshub.com/' + os.environ['MLFLOW_TRACKING_USERNAME'] \n",
        "                        + '/' + os.environ['MLFLOW_TRACKING_PROJECTNAME'] + '.mlflow')\n",
        "\n",
        "with mlflow.start_run(run_name=\"MLflow on Colab\"):\n",
        "  mlflow.log_metric(\"m1\", 2.0)\n",
        "  mlflow.log_param(\"p1\", \"mlflow-colab\")"
      ],
      "execution_count": 4,
      "outputs": [
        {
          "name": "stdout",
          "output_type": "stream",
          "text": [
            "besher.alhalabi\n",
            "··········\n",
            "mlops_demo\n"
          ]
        }
      ]
    },
    {
      "cell_type": "code",
      "metadata": {
        "colab": {
          "base_uri": "https://localhost:8080/",
          "height": 621
        },
        "id": "4kK5ZgqBiMe1",
        "outputId": "c8ab15cc-84ff-4a77-d32e-4c3416b645bb"
      },
      "source": [
        "# See your experiments table inside Colab!\n",
        "import IPython\n",
        "display(IPython.display.IFrame(\"https://dagshub.com/\"+ os.environ['MLFLOW_TRACKING_USERNAME'] \n",
        "                        + '/' + os.environ['MLFLOW_TRACKING_PROJECTNAME'] + \"/experiments/#/\",'100%',600))"
      ],
      "execution_count": 8,
      "outputs": [
        {
          "output_type": "display_data",
          "data": {
            "text/plain": [
              "<IPython.lib.display.IFrame at 0x7fcc03e3ea00>"
            ],
            "text/html": [
              "\n",
              "        <iframe\n",
              "            width=\"100%\"\n",
              "            height=\"600\"\n",
              "            src=\"https://dagshub.com/besher.alhalabi/mlops_demo/experiments/#/\"\n",
              "            frameborder=\"0\"\n",
              "            allowfullscreen\n",
              "        ></iframe>\n",
              "        "
            ]
          },
          "metadata": {}
        }
      ]
    },
    {
      "cell_type": "code",
      "source": [
        "!pip list | grep mlflow"
      ],
      "metadata": {
        "colab": {
          "base_uri": "https://localhost:8080/"
        },
        "id": "2g08VifY0Htm",
        "outputId": "bf2e726f-3aaa-408c-e3bb-d736fc43316a"
      },
      "execution_count": null,
      "outputs": [
        {
          "output_type": "stream",
          "name": "stdout",
          "text": [
            "mlflow                        1.22.0\n"
          ]
        }
      ]
    },
    {
      "cell_type": "code",
      "source": [
        "from pprint import pprint\n",
        "import numpy as np\n",
        "from sklearn.linear_model import LinearRegression\n",
        "import mlflow\n",
        "from mlflow import MlflowClient\n",
        "\n",
        "def fetch_logged_data(run_id):\n",
        "    client = MlflowClient()\n",
        "    data = client.get_run(run_id).data\n",
        "    tags = {k: v for k, v in data.tags.items() if not k.startswith(\"mlflow.\")}\n",
        "    artifacts = [f.path for f in client.list_artifacts(run_id, \"model\")]\n",
        "    return data.params, data.metrics, tags, artifacts\n",
        "\n",
        "# enable autologging\n",
        "mlflow.sklearn.autolog()\n",
        "\n",
        "# prepare training data\n",
        "X = np.array([[1, 1], [1, 2], [2, 2], [2, 3]])\n",
        "y = np.dot(X, np.array([1, 2])) + 3\n",
        "\n",
        "# train a model\n",
        "model = LinearRegression()\n",
        "with mlflow.start_run() as run:\n",
        "    model.fit(X, y)\n",
        "\n",
        "# fetch logged data\n",
        "params, metrics, tags, artifacts = fetch_logged_data(run.info.run_id)\n",
        "\n",
        "pprint(params)\n",
        "\n",
        "pprint(metrics)\n",
        "\n",
        "pprint(tags)\n",
        "\n",
        "pprint(artifacts)\n"
      ],
      "metadata": {
        "id": "HbGjNsqw0y2A",
        "colab": {
          "base_uri": "https://localhost:8080/"
        },
        "outputId": "e1c61ad9-8b15-4517-d4d2-8ef3678442b7"
      },
      "execution_count": 7,
      "outputs": [
        {
          "output_type": "stream",
          "name": "stdout",
          "text": [
            "{'copy_X': 'True',\n",
            " 'fit_intercept': 'True',\n",
            " 'n_jobs': 'None',\n",
            " 'normalize': 'deprecated',\n",
            " 'positive': 'False'}\n",
            "{'training_mae': 2.22044604925031e-16,\n",
            " 'training_mse': 1.97215226305253e-31,\n",
            " 'training_r2_score': 1.0,\n",
            " 'training_rmse': 4.44089209850063e-16,\n",
            " 'training_score': 1.0}\n",
            "{'estimator_class': 'sklearn.linear_model._base.LinearRegression',\n",
            " 'estimator_name': 'LinearRegression'}\n",
            "['model/MLmodel',\n",
            " 'model/conda.yaml',\n",
            " 'model/model.pkl',\n",
            " 'model/python_env.yaml',\n",
            " 'model/requirements.txt']\n"
          ]
        }
      ]
    }
  ]
}