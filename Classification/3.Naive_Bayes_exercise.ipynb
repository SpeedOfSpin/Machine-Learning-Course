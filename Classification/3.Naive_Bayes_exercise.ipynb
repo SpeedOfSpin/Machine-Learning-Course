{
  "nbformat": 4,
  "nbformat_minor": 0,
  "metadata": {
    "colab": {
      "name": "naive_bayes_exercise.ipynb",
      "provenance": [],
      "authorship_tag": "ABX9TyM9bmI515C75f2N1XjNBfg1",
      "include_colab_link": true
    },
    "kernelspec": {
      "name": "python3",
      "display_name": "Python 3"
    }
  },
  "cells": [
    {
      "cell_type": "markdown",
      "metadata": {
        "id": "view-in-github",
        "colab_type": "text"
      },
      "source": [
        "<a href=\"https://colab.research.google.com/github/besherh/Machine-Learning-Course/blob/master/Classification/naive_bayes_exercise.ipynb\" target=\"_parent\"><img src=\"https://colab.research.google.com/assets/colab-badge.svg\" alt=\"Open In Colab\"/></a>"
      ]
    },
    {
      "cell_type": "markdown",
      "metadata": {
        "id": "I-IT1tSXRiER"
      },
      "source": [
        "Use wine dataset from sklearn.datasets to classify wines into 3 categories. Load the dataset and split it into test and train. After that train the model using Gaussian and Multinominal classifier and post which model performs better. Use the trained model to perform some predictions on test data.\n",
        "\n"
      ]
    },
    {
      "cell_type": "code",
      "metadata": {
        "id": "_EaoLXLVRmOY"
      },
      "source": [
        "#load the dataset\n",
        "from sklearn import datasets\n",
        "\n",
        "#your code here , I will do the first line :)\n",
        "wine = datasets.load_wine()\n",
        "\n"
      ],
      "execution_count": null,
      "outputs": []
    },
    {
      "cell_type": "code",
      "metadata": {
        "colab": {
          "base_uri": "https://localhost:8080/"
        },
        "id": "IfkoAayzRuLR",
        "outputId": "10481aa1-c39a-4bd1-b2b2-fb768190565b"
      },
      "source": [
        "wine.feature_names\n"
      ],
      "execution_count": null,
      "outputs": [
        {
          "output_type": "execute_result",
          "data": {
            "text/plain": [
              "['alcohol',\n",
              " 'malic_acid',\n",
              " 'ash',\n",
              " 'alcalinity_of_ash',\n",
              " 'magnesium',\n",
              " 'total_phenols',\n",
              " 'flavanoids',\n",
              " 'nonflavanoid_phenols',\n",
              " 'proanthocyanins',\n",
              " 'color_intensity',\n",
              " 'hue',\n",
              " 'od280/od315_of_diluted_wines',\n",
              " 'proline']"
            ]
          },
          "metadata": {
            "tags": []
          },
          "execution_count": 4
        }
      ]
    },
    {
      "cell_type": "code",
      "metadata": {
        "colab": {
          "base_uri": "https://localhost:8080/"
        },
        "id": "-o91t2QQR6dl",
        "outputId": "fa4ad320-3616-4763-ee1f-e28ab1cef16f"
      },
      "source": [
        "#check the target column in the dataset\n",
        "#your code goes here\n"
      ],
      "execution_count": null,
      "outputs": [
        {
          "output_type": "execute_result",
          "data": {
            "text/plain": [
              "array(['class_0', 'class_1', 'class_2'], dtype='<U7')"
            ]
          },
          "metadata": {
            "tags": []
          },
          "execution_count": 5
        }
      ]
    },
    {
      "cell_type": "code",
      "metadata": {
        "id": "V1lo4tNCSBeN"
      },
      "source": [
        "from sklearn.model_selection import train_test_split\n",
        "#split the dataset into training/testing (30% for testing)\n",
        "#your code goes here\n"
      ],
      "execution_count": null,
      "outputs": []
    },
    {
      "cell_type": "code",
      "metadata": {
        "id": "rmmnJyNoSES9"
      },
      "source": [
        "from sklearn.naive_bayes import GaussianNB, MultinomialNB\n",
        "#build the model\n",
        "#your code goes here\n",
        "\n",
        "#fit the model on training/testing sets\n",
        "#your code goes here"
      ],
      "execution_count": null,
      "outputs": []
    },
    {
      "cell_type": "code",
      "metadata": {
        "id": "bvak23dWSM0l"
      },
      "source": [
        "#use the model to predict \n",
        "y_pred = model.predict(X_test) \n",
        "from sklearn import metrics \n",
        "#get the accuracy for the model using metrics.accuracy_score\n"
      ],
      "execution_count": null,
      "outputs": []
    }
  ]
}
