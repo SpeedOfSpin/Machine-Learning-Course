{
  "nbformat": 4,
  "nbformat_minor": 0,
  "metadata": {
    "colab": {
      "name": "SVM.ipynb",
      "provenance": [],
      "machine_shape": "hm",
      "authorship_tag": "ABX9TyMGuGKi928DKRVgZZgQfQzA",
      "include_colab_link": true
    },
    "kernelspec": {
      "name": "python3",
      "display_name": "Python 3"
    },
    "accelerator": "GPU"
  },
  "cells": [
    {
      "cell_type": "markdown",
      "metadata": {
        "id": "view-in-github",
        "colab_type": "text"
      },
      "source": [
        "<a href=\"https://colab.research.google.com/github/besherh/Machine-Learning-Course/blob/master/Classification/SVM.ipynb\" target=\"_parent\"><img src=\"https://colab.research.google.com/assets/colab-badge.svg\" alt=\"Open In Colab\"/></a>"
      ]
    },
    {
      "cell_type": "markdown",
      "metadata": {
        "id": "t0RVV-dSM7A4"
      },
      "source": [
        "#Support Vector Machine\n",
        "Generally, Support Vector Machines is considered to be a classification approach, it but can be employed in both types of classification and regression problems. It can easily handle multiple continuous and categorical variables. SVM constructs a hyperplane in multidimensional space to separate different classes. SVM generates optimal hyperplane in an iterative manner, which is used to minimize an error. The core idea of SVM is to find a maximum marginal hyperplane(MMH) that best divides the dataset into classes.\n",
        "\n",
        "\n"
      ]
    },
    {
      "cell_type": "markdown",
      "metadata": {
        "id": "_ftfcUHbNk18"
      },
      "source": [
        "Until now, you have learned about the theoretical background of SVM. Now you will learn about its implementation in Python using scikit-learn.\n",
        "\n",
        "In the model the building part, you can use the cancer dataset, which is a very famous multi-class classification problem. This dataset is computed from a digitized image of a fine needle aspirate (FNA) of a breast mass. They describe characteristics of the cell nuclei present in the image.\n",
        "\n",
        "The dataset comprises 30 features (mean radius, mean texture, mean perimeter, mean area, mean smoothness, mean compactness, mean concavity, mean concave points, mean symmetry, mean fractal dimension, radius error, texture error, perimeter error, area error, smoothness error, compactness error, concavity error, concave points error, symmetry error, fractal dimension error, worst radius, worst texture, worst perimeter, worst area, worst smoothness, worst compactness, worst concavity, worst concave points, worst symmetry, and worst fractal dimension) and a target (type of cancer).\n",
        "\n",
        "This data has two types of cancer classes: malignant (harmful) and benign (not harmful). Here, you can build a model to classify the type of cancer. The dataset is available in the scikit-learn library or you can also download it from the UCI Machine Learning Library.\n",
        "\n"
      ]
    },
    {
      "cell_type": "markdown",
      "metadata": {
        "id": "PEFQ1JUJNqcU"
      },
      "source": [
        "#Loading Data\n",
        "Let's first load the required dataset you will use.\n",
        "\n"
      ]
    },
    {
      "cell_type": "code",
      "metadata": {
        "id": "0q3wj347M0-A"
      },
      "source": [
        "#Import scikit-learn dataset library\n",
        "from sklearn import datasets\n",
        "\n",
        "#Load dataset\n",
        "cancer = datasets.load_breast_cancer()\n"
      ],
      "execution_count": 1,
      "outputs": []
    },
    {
      "cell_type": "markdown",
      "metadata": {
        "id": "FOpkBBFQNvTA"
      },
      "source": [
        "#Exploring Data\n",
        "After you have loaded the dataset, you might want to know a little bit more about it. You can check feature and target names.\n"
      ]
    },
    {
      "cell_type": "code",
      "metadata": {
        "colab": {
          "base_uri": "https://localhost:8080/"
        },
        "id": "PHi6_CQzNyCL",
        "outputId": "13b6a616-b6e8-4f94-caf3-aa326ad02f9d"
      },
      "source": [
        "# print the names of the 13 features\n",
        "print(\"Features: \", cancer.feature_names)\n",
        "\n",
        "# print the label type of cancer('malignant' 'benign')\n",
        "print(\"Labels: \", cancer.target_names)\n"
      ],
      "execution_count": 2,
      "outputs": [
        {
          "output_type": "stream",
          "name": "stdout",
          "text": [
            "Features:  ['mean radius' 'mean texture' 'mean perimeter' 'mean area'\n",
            " 'mean smoothness' 'mean compactness' 'mean concavity'\n",
            " 'mean concave points' 'mean symmetry' 'mean fractal dimension'\n",
            " 'radius error' 'texture error' 'perimeter error' 'area error'\n",
            " 'smoothness error' 'compactness error' 'concavity error'\n",
            " 'concave points error' 'symmetry error' 'fractal dimension error'\n",
            " 'worst radius' 'worst texture' 'worst perimeter' 'worst area'\n",
            " 'worst smoothness' 'worst compactness' 'worst concavity'\n",
            " 'worst concave points' 'worst symmetry' 'worst fractal dimension']\n",
            "Labels:  ['malignant' 'benign']\n"
          ]
        }
      ]
    },
    {
      "cell_type": "markdown",
      "metadata": {
        "id": "Xfj8Ug3IN2ew"
      },
      "source": [
        "Let's explore it for a bit more. You can also check the shape of the dataset using shape.\n",
        "\n"
      ]
    },
    {
      "cell_type": "code",
      "metadata": {
        "colab": {
          "base_uri": "https://localhost:8080/"
        },
        "id": "PLTcI-mSN31o",
        "outputId": "d85b46cc-c37f-4c2d-d964-aa5ed6e14e83"
      },
      "source": [
        "# print data(feature)shape\n",
        "cancer.data.shape\n"
      ],
      "execution_count": 3,
      "outputs": [
        {
          "output_type": "execute_result",
          "data": {
            "text/plain": [
              "(569, 30)"
            ]
          },
          "metadata": {},
          "execution_count": 3
        }
      ]
    },
    {
      "cell_type": "code",
      "metadata": {
        "colab": {
          "base_uri": "https://localhost:8080/"
        },
        "id": "F7s7eG-hN5zg",
        "outputId": "d5ecbf5d-4007-4f9d-8bc2-6ad7f8a0e6ab"
      },
      "source": [
        "#Let's check top 5 records of the feature set.\n",
        "\n",
        "print(cancer.data[0:5])\n"
      ],
      "execution_count": 4,
      "outputs": [
        {
          "output_type": "stream",
          "name": "stdout",
          "text": [
            "[[1.799e+01 1.038e+01 1.228e+02 1.001e+03 1.184e-01 2.776e-01 3.001e-01\n",
            "  1.471e-01 2.419e-01 7.871e-02 1.095e+00 9.053e-01 8.589e+00 1.534e+02\n",
            "  6.399e-03 4.904e-02 5.373e-02 1.587e-02 3.003e-02 6.193e-03 2.538e+01\n",
            "  1.733e+01 1.846e+02 2.019e+03 1.622e-01 6.656e-01 7.119e-01 2.654e-01\n",
            "  4.601e-01 1.189e-01]\n",
            " [2.057e+01 1.777e+01 1.329e+02 1.326e+03 8.474e-02 7.864e-02 8.690e-02\n",
            "  7.017e-02 1.812e-01 5.667e-02 5.435e-01 7.339e-01 3.398e+00 7.408e+01\n",
            "  5.225e-03 1.308e-02 1.860e-02 1.340e-02 1.389e-02 3.532e-03 2.499e+01\n",
            "  2.341e+01 1.588e+02 1.956e+03 1.238e-01 1.866e-01 2.416e-01 1.860e-01\n",
            "  2.750e-01 8.902e-02]\n",
            " [1.969e+01 2.125e+01 1.300e+02 1.203e+03 1.096e-01 1.599e-01 1.974e-01\n",
            "  1.279e-01 2.069e-01 5.999e-02 7.456e-01 7.869e-01 4.585e+00 9.403e+01\n",
            "  6.150e-03 4.006e-02 3.832e-02 2.058e-02 2.250e-02 4.571e-03 2.357e+01\n",
            "  2.553e+01 1.525e+02 1.709e+03 1.444e-01 4.245e-01 4.504e-01 2.430e-01\n",
            "  3.613e-01 8.758e-02]\n",
            " [1.142e+01 2.038e+01 7.758e+01 3.861e+02 1.425e-01 2.839e-01 2.414e-01\n",
            "  1.052e-01 2.597e-01 9.744e-02 4.956e-01 1.156e+00 3.445e+00 2.723e+01\n",
            "  9.110e-03 7.458e-02 5.661e-02 1.867e-02 5.963e-02 9.208e-03 1.491e+01\n",
            "  2.650e+01 9.887e+01 5.677e+02 2.098e-01 8.663e-01 6.869e-01 2.575e-01\n",
            "  6.638e-01 1.730e-01]\n",
            " [2.029e+01 1.434e+01 1.351e+02 1.297e+03 1.003e-01 1.328e-01 1.980e-01\n",
            "  1.043e-01 1.809e-01 5.883e-02 7.572e-01 7.813e-01 5.438e+00 9.444e+01\n",
            "  1.149e-02 2.461e-02 5.688e-02 1.885e-02 1.756e-02 5.115e-03 2.254e+01\n",
            "  1.667e+01 1.522e+02 1.575e+03 1.374e-01 2.050e-01 4.000e-01 1.625e-01\n",
            "  2.364e-01 7.678e-02]]\n"
          ]
        }
      ]
    },
    {
      "cell_type": "code",
      "metadata": {
        "colab": {
          "base_uri": "https://localhost:8080/"
        },
        "id": "2XY6uZv9N-xU",
        "outputId": "6478b8c1-d211-4245-8d44-6997b3f30917"
      },
      "source": [
        "#Let's take a look at the target set.\n",
        "\n",
        "print(cancer.target)\n"
      ],
      "execution_count": 5,
      "outputs": [
        {
          "output_type": "stream",
          "name": "stdout",
          "text": [
            "[0 0 0 0 0 0 0 0 0 0 0 0 0 0 0 0 0 0 0 1 1 1 0 0 0 0 0 0 0 0 0 0 0 0 0 0 0\n",
            " 1 0 0 0 0 0 0 0 0 1 0 1 1 1 1 1 0 0 1 0 0 1 1 1 1 0 1 0 0 1 1 1 1 0 1 0 0\n",
            " 1 0 1 0 0 1 1 1 0 0 1 0 0 0 1 1 1 0 1 1 0 0 1 1 1 0 0 1 1 1 1 0 1 1 0 1 1\n",
            " 1 1 1 1 1 1 0 0 0 1 0 0 1 1 1 0 0 1 0 1 0 0 1 0 0 1 1 0 1 1 0 1 1 1 1 0 1\n",
            " 1 1 1 1 1 1 1 1 0 1 1 1 1 0 0 1 0 1 1 0 0 1 1 0 0 1 1 1 1 0 1 1 0 0 0 1 0\n",
            " 1 0 1 1 1 0 1 1 0 0 1 0 0 0 0 1 0 0 0 1 0 1 0 1 1 0 1 0 0 0 0 1 1 0 0 1 1\n",
            " 1 0 1 1 1 1 1 0 0 1 1 0 1 1 0 0 1 0 1 1 1 1 0 1 1 1 1 1 0 1 0 0 0 0 0 0 0\n",
            " 0 0 0 0 0 0 0 1 1 1 1 1 1 0 1 0 1 1 0 1 1 0 1 0 0 1 1 1 1 1 1 1 1 1 1 1 1\n",
            " 1 0 1 1 0 1 0 1 1 1 1 1 1 1 1 1 1 1 1 1 1 0 1 1 1 0 1 0 1 1 1 1 0 0 0 1 1\n",
            " 1 1 0 1 0 1 0 1 1 1 0 1 1 1 1 1 1 1 0 0 0 1 1 1 1 1 1 1 1 1 1 1 0 0 1 0 0\n",
            " 0 1 0 0 1 1 1 1 1 0 1 1 1 1 1 0 1 1 1 0 1 1 0 0 1 1 1 1 1 1 0 1 1 1 1 1 1\n",
            " 1 0 1 1 1 1 1 0 1 1 0 1 1 1 1 1 1 1 1 1 1 1 1 0 1 0 0 1 0 1 1 1 1 1 0 1 1\n",
            " 0 1 0 1 1 0 1 0 1 1 1 1 1 1 1 1 0 0 1 1 1 1 1 1 0 1 1 1 1 1 1 1 1 1 1 0 1\n",
            " 1 1 1 1 1 1 0 1 0 1 1 0 1 1 1 1 1 0 0 1 0 1 0 1 1 1 1 1 0 1 1 0 1 0 1 0 0\n",
            " 1 1 1 0 1 1 1 1 1 1 1 1 1 1 1 0 1 0 0 1 1 1 1 1 1 1 1 1 1 1 1 1 1 1 1 1 1\n",
            " 1 1 1 1 1 1 1 0 0 0 0 0 0 1]\n"
          ]
        }
      ]
    },
    {
      "cell_type": "markdown",
      "metadata": {
        "id": "E0BpAzXHOC1Q"
      },
      "source": [
        "#Splitting Data\n",
        "To understand model performance, dividing the dataset into a training set and a test set is a good strategy.\n",
        "\n",
        "Split the dataset by using the function train_test_split(). you need to pass 3 parameters features, target, and test_set size. Additionally, you can use random_state to select records randomly.\n",
        "\n"
      ]
    },
    {
      "cell_type": "code",
      "metadata": {
        "id": "fXlwXsp5OFgR"
      },
      "source": [
        "# Import train_test_split function\n",
        "from sklearn.model_selection import train_test_split\n",
        "\n",
        "# Split dataset into training set and test set\n",
        "X_train, X_test, y_train, y_test = train_test_split(cancer.data, cancer.target, test_size=0.3,random_state=109) # 70% training and 30% test\n"
      ],
      "execution_count": 5,
      "outputs": []
    },
    {
      "cell_type": "markdown",
      "metadata": {
        "id": "RK_gF45gOIT5"
      },
      "source": [
        "#Generating Model\n",
        "Let's build support vector machine model. First, import the SVM module and create support vector classifier object by passing argument kernel as the linear kernel in SVC() function.\n",
        "\n",
        "Then, fit your model on train set using fit() and perform prediction on the test set using predict().\n",
        "\n"
      ]
    },
    {
      "cell_type": "code",
      "metadata": {
        "id": "-vYoXKdeOKY0"
      },
      "source": [
        "#Import svm model\n",
        "from sklearn import svm\n",
        "\n",
        "#Create a svm Classifier\n",
        "#what is clf? the answer is here: https://scikit-learn.org/stable/tutorial/basic/tutorial.html#learning-and-predicting\n",
        "clf = svm.SVC() # Linear Kernel\n",
        "\n",
        "#Train the model using the training sets\n",
        "clf.fit(X_train, y_train)\n",
        "\n",
        "#Predict the response for test dataset\n",
        "y_pred = clf.predict(X_test)\n"
      ],
      "execution_count": 6,
      "outputs": []
    },
    {
      "cell_type": "markdown",
      "metadata": {
        "id": "iDFi53cLPE9h"
      },
      "source": [
        "#Evaluating the Model\n",
        "Let's estimate how accurately the classifier or model can predict the breast cancer of patients.\n",
        "\n",
        "Accuracy can be computed by comparing actual test set values and predicted values.\n",
        "\n"
      ]
    },
    {
      "cell_type": "code",
      "metadata": {
        "colab": {
          "base_uri": "https://localhost:8080/"
        },
        "id": "aXy7EyCCPRND",
        "outputId": "b95406b5-95ec-4cff-e191-54541498b663"
      },
      "source": [
        "#Import scikit-learn metrics module for accuracy calculation\n",
        "from sklearn import metrics\n",
        "from sklearn.metrics import classification_report, confusion_matrix\n",
        "\n",
        "# Model Accuracy: how often is the classifier correct?\n",
        "print(\"Accuracy:\",metrics.accuracy_score(y_test, y_pred))\n"
      ],
      "execution_count": 7,
      "outputs": [
        {
          "output_type": "stream",
          "name": "stdout",
          "text": [
            "Accuracy: 0.9239766081871345\n"
          ]
        }
      ]
    },
    {
      "cell_type": "code",
      "metadata": {
        "colab": {
          "base_uri": "https://localhost:8080/"
        },
        "id": "pa-AazSqfeYF",
        "outputId": "1ffc98fc-b6bc-4b0d-dcc1-ccdc9cf12e0f"
      },
      "source": [
        "print(classification_report(y_test, y_pred))"
      ],
      "execution_count": 8,
      "outputs": [
        {
          "output_type": "stream",
          "name": "stdout",
          "text": [
            "              precision    recall  f1-score   support\n",
            "\n",
            "           0       1.00      0.79      0.88        63\n",
            "           1       0.89      1.00      0.94       108\n",
            "\n",
            "    accuracy                           0.92       171\n",
            "   macro avg       0.95      0.90      0.91       171\n",
            "weighted avg       0.93      0.92      0.92       171\n",
            "\n"
          ]
        }
      ]
    },
    {
      "cell_type": "markdown",
      "metadata": {
        "id": "Su1med-SPeNR"
      },
      "source": [
        "#Tuning Hyperparameters\n",
        "**Kernel**: The main function of the kernel is to transform the given dataset input data into the required form. There are various types of functions such as linear, polynomial, and radial basis function (RBF). Polynomial and RBF are useful for non-linear hyperplane. Polynomial and RBF kernels compute the separation line in the higher dimension. In some of the applications, it is suggested to use a more complex kernel to separate the classes that are curved or nonlinear. This transformation can lead to more accurate classifiers.\n",
        "\n",
        "**Regularization**: Regularization parameter in python's Scikit-learn C parameter used to maintain regularization. Here C is the penalty parameter, which represents misclassification or error term. The misclassification or error term tells the SVM optimization how much error is bearable. This is how you can control the trade-off between decision boundary and misclassification term. A smaller value of C creates a small-margin hyperplane and a larger value of C creates a larger-margin hyperplane.\n",
        "\n",
        "**Gamma**: A lower value of Gamma will loosely fit the training dataset, whereas a higher value of gamma will exactly fit the training dataset, which causes over-fitting. In other words, you can say a low value of gamma considers only nearby points in calculating the separation line, while the a value of gamma considers all the data points in the calculation of the separation line.\n",
        "\n"
      ]
    },
    {
      "cell_type": "markdown",
      "metadata": {
        "id": "6XDPraFbe3T3"
      },
      "source": [
        "#Use GridsearchCV\n"
      ]
    },
    {
      "cell_type": "code",
      "metadata": {
        "colab": {
          "base_uri": "https://localhost:8080/"
        },
        "id": "W3jWnYnpfBpA",
        "outputId": "ab0daefb-78f5-4082-bbe0-99a014049c1e"
      },
      "source": [
        "from sklearn.model_selection import GridSearchCV\n",
        " \n",
        "# defining parameter range\n",
        "param_grid = {'C': [0.1, 1, 10, 100, 1000],\n",
        "              'gamma': [1, 0.1, 0.01, 0.001, 0.0001],\n",
        "              'kernel': ['rbf','linear']}\n",
        " \n",
        "grid = GridSearchCV(svm.SVC(), param_grid, refit = True, verbose = 3)\n",
        " \n",
        "# fitting the model for grid search\n",
        "grid.fit(X_train, y_train)\n"
      ],
      "execution_count": 9,
      "outputs": [
        {
          "output_type": "stream",
          "name": "stdout",
          "text": [
            "Fitting 5 folds for each of 50 candidates, totalling 250 fits\n",
            "[CV 1/5] END ........C=0.1, gamma=1, kernel=rbf;, score=0.625 total time=   0.0s\n",
            "[CV 2/5] END ........C=0.1, gamma=1, kernel=rbf;, score=0.625 total time=   0.0s\n",
            "[CV 3/5] END ........C=0.1, gamma=1, kernel=rbf;, score=0.625 total time=   0.0s\n",
            "[CV 4/5] END ........C=0.1, gamma=1, kernel=rbf;, score=0.620 total time=   0.0s\n",
            "[CV 5/5] END ........C=0.1, gamma=1, kernel=rbf;, score=0.633 total time=   0.0s\n",
            "[CV 1/5] END .....C=0.1, gamma=1, kernel=linear;, score=0.963 total time=   0.1s\n",
            "[CV 2/5] END .....C=0.1, gamma=1, kernel=linear;, score=0.925 total time=   0.1s\n",
            "[CV 3/5] END .....C=0.1, gamma=1, kernel=linear;, score=0.938 total time=   0.1s\n",
            "[CV 4/5] END .....C=0.1, gamma=1, kernel=linear;, score=0.962 total time=   0.1s\n",
            "[CV 5/5] END .....C=0.1, gamma=1, kernel=linear;, score=0.924 total time=   0.1s\n",
            "[CV 1/5] END ......C=0.1, gamma=0.1, kernel=rbf;, score=0.625 total time=   0.0s\n",
            "[CV 2/5] END ......C=0.1, gamma=0.1, kernel=rbf;, score=0.625 total time=   0.0s\n",
            "[CV 3/5] END ......C=0.1, gamma=0.1, kernel=rbf;, score=0.625 total time=   0.0s\n",
            "[CV 4/5] END ......C=0.1, gamma=0.1, kernel=rbf;, score=0.620 total time=   0.0s\n",
            "[CV 5/5] END ......C=0.1, gamma=0.1, kernel=rbf;, score=0.633 total time=   0.0s\n",
            "[CV 1/5] END ...C=0.1, gamma=0.1, kernel=linear;, score=0.963 total time=   0.1s\n",
            "[CV 2/5] END ...C=0.1, gamma=0.1, kernel=linear;, score=0.925 total time=   0.1s\n",
            "[CV 3/5] END ...C=0.1, gamma=0.1, kernel=linear;, score=0.938 total time=   0.1s\n",
            "[CV 4/5] END ...C=0.1, gamma=0.1, kernel=linear;, score=0.962 total time=   0.1s\n",
            "[CV 5/5] END ...C=0.1, gamma=0.1, kernel=linear;, score=0.924 total time=   0.1s\n",
            "[CV 1/5] END .....C=0.1, gamma=0.01, kernel=rbf;, score=0.625 total time=   0.0s\n",
            "[CV 2/5] END .....C=0.1, gamma=0.01, kernel=rbf;, score=0.625 total time=   0.0s\n",
            "[CV 3/5] END .....C=0.1, gamma=0.01, kernel=rbf;, score=0.625 total time=   0.0s\n",
            "[CV 4/5] END .....C=0.1, gamma=0.01, kernel=rbf;, score=0.620 total time=   0.0s\n",
            "[CV 5/5] END .....C=0.1, gamma=0.01, kernel=rbf;, score=0.633 total time=   0.0s\n",
            "[CV 1/5] END ..C=0.1, gamma=0.01, kernel=linear;, score=0.963 total time=   0.1s\n",
            "[CV 2/5] END ..C=0.1, gamma=0.01, kernel=linear;, score=0.925 total time=   0.1s\n",
            "[CV 3/5] END ..C=0.1, gamma=0.01, kernel=linear;, score=0.938 total time=   0.1s\n",
            "[CV 4/5] END ..C=0.1, gamma=0.01, kernel=linear;, score=0.962 total time=   0.1s\n",
            "[CV 5/5] END ..C=0.1, gamma=0.01, kernel=linear;, score=0.924 total time=   0.1s\n",
            "[CV 1/5] END ....C=0.1, gamma=0.001, kernel=rbf;, score=0.625 total time=   0.0s\n",
            "[CV 2/5] END ....C=0.1, gamma=0.001, kernel=rbf;, score=0.625 total time=   0.0s\n",
            "[CV 3/5] END ....C=0.1, gamma=0.001, kernel=rbf;, score=0.625 total time=   0.0s\n",
            "[CV 4/5] END ....C=0.1, gamma=0.001, kernel=rbf;, score=0.620 total time=   0.0s\n",
            "[CV 5/5] END ....C=0.1, gamma=0.001, kernel=rbf;, score=0.633 total time=   0.0s\n",
            "[CV 1/5] END .C=0.1, gamma=0.001, kernel=linear;, score=0.963 total time=   0.1s\n",
            "[CV 2/5] END .C=0.1, gamma=0.001, kernel=linear;, score=0.925 total time=   0.1s\n",
            "[CV 3/5] END .C=0.1, gamma=0.001, kernel=linear;, score=0.938 total time=   0.1s\n",
            "[CV 4/5] END .C=0.1, gamma=0.001, kernel=linear;, score=0.962 total time=   0.1s\n",
            "[CV 5/5] END .C=0.1, gamma=0.001, kernel=linear;, score=0.924 total time=   0.1s\n",
            "[CV 1/5] END ...C=0.1, gamma=0.0001, kernel=rbf;, score=0.887 total time=   0.0s\n",
            "[CV 2/5] END ...C=0.1, gamma=0.0001, kernel=rbf;, score=0.938 total time=   0.0s\n",
            "[CV 3/5] END ...C=0.1, gamma=0.0001, kernel=rbf;, score=0.912 total time=   0.0s\n",
            "[CV 4/5] END ...C=0.1, gamma=0.0001, kernel=rbf;, score=0.937 total time=   0.0s\n",
            "[CV 5/5] END ...C=0.1, gamma=0.0001, kernel=rbf;, score=0.873 total time=   0.0s\n",
            "[CV 1/5] END C=0.1, gamma=0.0001, kernel=linear;, score=0.963 total time=   0.1s\n",
            "[CV 2/5] END C=0.1, gamma=0.0001, kernel=linear;, score=0.925 total time=   0.1s\n",
            "[CV 3/5] END C=0.1, gamma=0.0001, kernel=linear;, score=0.938 total time=   0.1s\n",
            "[CV 4/5] END C=0.1, gamma=0.0001, kernel=linear;, score=0.962 total time=   0.1s\n",
            "[CV 5/5] END C=0.1, gamma=0.0001, kernel=linear;, score=0.924 total time=   0.1s\n",
            "[CV 1/5] END ..........C=1, gamma=1, kernel=rbf;, score=0.625 total time=   0.0s\n",
            "[CV 2/5] END ..........C=1, gamma=1, kernel=rbf;, score=0.625 total time=   0.0s\n",
            "[CV 3/5] END ..........C=1, gamma=1, kernel=rbf;, score=0.625 total time=   0.0s\n",
            "[CV 4/5] END ..........C=1, gamma=1, kernel=rbf;, score=0.620 total time=   0.0s\n",
            "[CV 5/5] END ..........C=1, gamma=1, kernel=rbf;, score=0.633 total time=   0.0s\n",
            "[CV 1/5] END .......C=1, gamma=1, kernel=linear;, score=0.975 total time=   0.6s\n",
            "[CV 2/5] END .......C=1, gamma=1, kernel=linear;, score=0.938 total time=   0.6s\n",
            "[CV 3/5] END .......C=1, gamma=1, kernel=linear;, score=0.912 total time=   0.7s\n",
            "[CV 4/5] END .......C=1, gamma=1, kernel=linear;, score=0.962 total time=   1.4s\n",
            "[CV 5/5] END .......C=1, gamma=1, kernel=linear;, score=0.937 total time=   0.7s\n",
            "[CV 1/5] END ........C=1, gamma=0.1, kernel=rbf;, score=0.625 total time=   0.0s\n",
            "[CV 2/5] END ........C=1, gamma=0.1, kernel=rbf;, score=0.625 total time=   0.0s\n",
            "[CV 3/5] END ........C=1, gamma=0.1, kernel=rbf;, score=0.625 total time=   0.0s\n",
            "[CV 4/5] END ........C=1, gamma=0.1, kernel=rbf;, score=0.620 total time=   0.0s\n",
            "[CV 5/5] END ........C=1, gamma=0.1, kernel=rbf;, score=0.633 total time=   0.0s\n",
            "[CV 1/5] END .....C=1, gamma=0.1, kernel=linear;, score=0.975 total time=   0.6s\n",
            "[CV 2/5] END .....C=1, gamma=0.1, kernel=linear;, score=0.938 total time=   0.6s\n",
            "[CV 3/5] END .....C=1, gamma=0.1, kernel=linear;, score=0.912 total time=   0.7s\n",
            "[CV 4/5] END .....C=1, gamma=0.1, kernel=linear;, score=0.962 total time=   1.4s\n",
            "[CV 5/5] END .....C=1, gamma=0.1, kernel=linear;, score=0.937 total time=   0.7s\n",
            "[CV 1/5] END .......C=1, gamma=0.01, kernel=rbf;, score=0.625 total time=   0.0s\n",
            "[CV 2/5] END .......C=1, gamma=0.01, kernel=rbf;, score=0.625 total time=   0.0s\n",
            "[CV 3/5] END .......C=1, gamma=0.01, kernel=rbf;, score=0.625 total time=   0.0s\n",
            "[CV 4/5] END .......C=1, gamma=0.01, kernel=rbf;, score=0.620 total time=   0.0s\n",
            "[CV 5/5] END .......C=1, gamma=0.01, kernel=rbf;, score=0.633 total time=   0.0s\n",
            "[CV 1/5] END ....C=1, gamma=0.01, kernel=linear;, score=0.975 total time=   0.6s\n",
            "[CV 2/5] END ....C=1, gamma=0.01, kernel=linear;, score=0.938 total time=   0.6s\n",
            "[CV 3/5] END ....C=1, gamma=0.01, kernel=linear;, score=0.912 total time=   0.7s\n",
            "[CV 4/5] END ....C=1, gamma=0.01, kernel=linear;, score=0.962 total time=   1.4s\n",
            "[CV 5/5] END ....C=1, gamma=0.01, kernel=linear;, score=0.937 total time=   0.7s\n",
            "[CV 1/5] END ......C=1, gamma=0.001, kernel=rbf;, score=0.900 total time=   0.0s\n",
            "[CV 2/5] END ......C=1, gamma=0.001, kernel=rbf;, score=0.875 total time=   0.0s\n",
            "[CV 3/5] END ......C=1, gamma=0.001, kernel=rbf;, score=0.887 total time=   0.0s\n",
            "[CV 4/5] END ......C=1, gamma=0.001, kernel=rbf;, score=0.924 total time=   0.0s\n",
            "[CV 5/5] END ......C=1, gamma=0.001, kernel=rbf;, score=0.861 total time=   0.0s\n",
            "[CV 1/5] END ...C=1, gamma=0.001, kernel=linear;, score=0.975 total time=   0.6s\n",
            "[CV 2/5] END ...C=1, gamma=0.001, kernel=linear;, score=0.938 total time=   0.6s\n",
            "[CV 3/5] END ...C=1, gamma=0.001, kernel=linear;, score=0.912 total time=   0.7s\n",
            "[CV 4/5] END ...C=1, gamma=0.001, kernel=linear;, score=0.962 total time=   1.4s\n",
            "[CV 5/5] END ...C=1, gamma=0.001, kernel=linear;, score=0.937 total time=   0.7s\n",
            "[CV 1/5] END .....C=1, gamma=0.0001, kernel=rbf;, score=0.912 total time=   0.0s\n",
            "[CV 2/5] END .....C=1, gamma=0.0001, kernel=rbf;, score=0.938 total time=   0.0s\n",
            "[CV 3/5] END .....C=1, gamma=0.0001, kernel=rbf;, score=0.925 total time=   0.0s\n",
            "[CV 4/5] END .....C=1, gamma=0.0001, kernel=rbf;, score=0.949 total time=   0.0s\n",
            "[CV 5/5] END .....C=1, gamma=0.0001, kernel=rbf;, score=0.911 total time=   0.0s\n",
            "[CV 1/5] END ..C=1, gamma=0.0001, kernel=linear;, score=0.975 total time=   0.6s\n",
            "[CV 2/5] END ..C=1, gamma=0.0001, kernel=linear;, score=0.938 total time=   0.6s\n",
            "[CV 3/5] END ..C=1, gamma=0.0001, kernel=linear;, score=0.912 total time=   0.7s\n",
            "[CV 4/5] END ..C=1, gamma=0.0001, kernel=linear;, score=0.962 total time=   1.4s\n",
            "[CV 5/5] END ..C=1, gamma=0.0001, kernel=linear;, score=0.937 total time=   0.6s\n",
            "[CV 1/5] END .........C=10, gamma=1, kernel=rbf;, score=0.625 total time=   0.0s\n",
            "[CV 2/5] END .........C=10, gamma=1, kernel=rbf;, score=0.625 total time=   0.0s\n",
            "[CV 3/5] END .........C=10, gamma=1, kernel=rbf;, score=0.625 total time=   0.0s\n",
            "[CV 4/5] END .........C=10, gamma=1, kernel=rbf;, score=0.620 total time=   0.0s\n",
            "[CV 5/5] END .........C=10, gamma=1, kernel=rbf;, score=0.633 total time=   0.0s\n",
            "[CV 1/5] END ......C=10, gamma=1, kernel=linear;, score=0.963 total time=   1.1s\n",
            "[CV 2/5] END ......C=10, gamma=1, kernel=linear;, score=0.925 total time=   8.5s\n",
            "[CV 3/5] END ......C=10, gamma=1, kernel=linear;, score=0.925 total time=   5.9s\n",
            "[CV 4/5] END ......C=10, gamma=1, kernel=linear;, score=0.962 total time=   5.3s\n",
            "[CV 5/5] END ......C=10, gamma=1, kernel=linear;, score=0.924 total time=   2.9s\n",
            "[CV 1/5] END .......C=10, gamma=0.1, kernel=rbf;, score=0.625 total time=   0.0s\n",
            "[CV 2/5] END .......C=10, gamma=0.1, kernel=rbf;, score=0.625 total time=   0.0s\n",
            "[CV 3/5] END .......C=10, gamma=0.1, kernel=rbf;, score=0.625 total time=   0.0s\n",
            "[CV 4/5] END .......C=10, gamma=0.1, kernel=rbf;, score=0.620 total time=   0.0s\n",
            "[CV 5/5] END .......C=10, gamma=0.1, kernel=rbf;, score=0.633 total time=   0.0s\n",
            "[CV 1/5] END ....C=10, gamma=0.1, kernel=linear;, score=0.963 total time=   1.1s\n",
            "[CV 2/5] END ....C=10, gamma=0.1, kernel=linear;, score=0.925 total time=   8.4s\n",
            "[CV 3/5] END ....C=10, gamma=0.1, kernel=linear;, score=0.925 total time=   6.0s\n",
            "[CV 4/5] END ....C=10, gamma=0.1, kernel=linear;, score=0.962 total time=   5.3s\n",
            "[CV 5/5] END ....C=10, gamma=0.1, kernel=linear;, score=0.924 total time=   2.9s\n",
            "[CV 1/5] END ......C=10, gamma=0.01, kernel=rbf;, score=0.625 total time=   0.0s\n",
            "[CV 2/5] END ......C=10, gamma=0.01, kernel=rbf;, score=0.625 total time=   0.0s\n",
            "[CV 3/5] END ......C=10, gamma=0.01, kernel=rbf;, score=0.625 total time=   0.0s\n",
            "[CV 4/5] END ......C=10, gamma=0.01, kernel=rbf;, score=0.620 total time=   0.0s\n",
            "[CV 5/5] END ......C=10, gamma=0.01, kernel=rbf;, score=0.646 total time=   0.0s\n",
            "[CV 1/5] END ...C=10, gamma=0.01, kernel=linear;, score=0.963 total time=   1.1s\n",
            "[CV 2/5] END ...C=10, gamma=0.01, kernel=linear;, score=0.925 total time=   8.4s\n",
            "[CV 3/5] END ...C=10, gamma=0.01, kernel=linear;, score=0.925 total time=   5.9s\n",
            "[CV 4/5] END ...C=10, gamma=0.01, kernel=linear;, score=0.962 total time=   5.3s\n",
            "[CV 5/5] END ...C=10, gamma=0.01, kernel=linear;, score=0.924 total time=   2.9s\n",
            "[CV 1/5] END .....C=10, gamma=0.001, kernel=rbf;, score=0.887 total time=   0.0s\n",
            "[CV 2/5] END .....C=10, gamma=0.001, kernel=rbf;, score=0.887 total time=   0.0s\n",
            "[CV 3/5] END .....C=10, gamma=0.001, kernel=rbf;, score=0.875 total time=   0.0s\n",
            "[CV 4/5] END .....C=10, gamma=0.001, kernel=rbf;, score=0.886 total time=   0.0s\n",
            "[CV 5/5] END .....C=10, gamma=0.001, kernel=rbf;, score=0.873 total time=   0.0s\n",
            "[CV 1/5] END ..C=10, gamma=0.001, kernel=linear;, score=0.963 total time=   1.1s\n",
            "[CV 2/5] END ..C=10, gamma=0.001, kernel=linear;, score=0.925 total time=   8.4s\n",
            "[CV 3/5] END ..C=10, gamma=0.001, kernel=linear;, score=0.925 total time=   6.0s\n",
            "[CV 4/5] END ..C=10, gamma=0.001, kernel=linear;, score=0.962 total time=   5.3s\n",
            "[CV 5/5] END ..C=10, gamma=0.001, kernel=linear;, score=0.924 total time=   2.9s\n",
            "[CV 1/5] END ....C=10, gamma=0.0001, kernel=rbf;, score=0.925 total time=   0.0s\n",
            "[CV 2/5] END ....C=10, gamma=0.0001, kernel=rbf;, score=0.887 total time=   0.0s\n",
            "[CV 3/5] END ....C=10, gamma=0.0001, kernel=rbf;, score=0.925 total time=   0.0s\n",
            "[CV 4/5] END ....C=10, gamma=0.0001, kernel=rbf;, score=0.962 total time=   0.0s\n",
            "[CV 5/5] END ....C=10, gamma=0.0001, kernel=rbf;, score=0.886 total time=   0.0s\n",
            "[CV 1/5] END .C=10, gamma=0.0001, kernel=linear;, score=0.963 total time=   1.1s\n",
            "[CV 2/5] END .C=10, gamma=0.0001, kernel=linear;, score=0.925 total time=   8.4s\n",
            "[CV 3/5] END .C=10, gamma=0.0001, kernel=linear;, score=0.925 total time=   5.9s\n",
            "[CV 4/5] END .C=10, gamma=0.0001, kernel=linear;, score=0.962 total time=   5.3s\n",
            "[CV 5/5] END .C=10, gamma=0.0001, kernel=linear;, score=0.924 total time=   2.9s\n",
            "[CV 1/5] END ........C=100, gamma=1, kernel=rbf;, score=0.625 total time=   0.0s\n",
            "[CV 2/5] END ........C=100, gamma=1, kernel=rbf;, score=0.625 total time=   0.0s\n",
            "[CV 3/5] END ........C=100, gamma=1, kernel=rbf;, score=0.625 total time=   0.0s\n",
            "[CV 4/5] END ........C=100, gamma=1, kernel=rbf;, score=0.620 total time=   0.0s\n",
            "[CV 5/5] END ........C=100, gamma=1, kernel=rbf;, score=0.633 total time=   0.0s\n",
            "[CV 1/5] END .....C=100, gamma=1, kernel=linear;, score=0.950 total time=   1.2s\n",
            "[CV 2/5] END .....C=100, gamma=1, kernel=linear;, score=0.950 total time=   4.5s\n",
            "[CV 3/5] END .....C=100, gamma=1, kernel=linear;, score=0.938 total time=   9.1s\n",
            "[CV 4/5] END .....C=100, gamma=1, kernel=linear;, score=0.962 total time=   5.2s\n",
            "[CV 5/5] END .....C=100, gamma=1, kernel=linear;, score=0.949 total time=  14.7s\n",
            "[CV 1/5] END ......C=100, gamma=0.1, kernel=rbf;, score=0.625 total time=   0.0s\n",
            "[CV 2/5] END ......C=100, gamma=0.1, kernel=rbf;, score=0.625 total time=   0.0s\n",
            "[CV 3/5] END ......C=100, gamma=0.1, kernel=rbf;, score=0.625 total time=   0.0s\n",
            "[CV 4/5] END ......C=100, gamma=0.1, kernel=rbf;, score=0.620 total time=   0.0s\n",
            "[CV 5/5] END ......C=100, gamma=0.1, kernel=rbf;, score=0.633 total time=   0.0s\n",
            "[CV 1/5] END ...C=100, gamma=0.1, kernel=linear;, score=0.950 total time=   1.2s\n",
            "[CV 2/5] END ...C=100, gamma=0.1, kernel=linear;, score=0.950 total time=   4.4s\n",
            "[CV 3/5] END ...C=100, gamma=0.1, kernel=linear;, score=0.938 total time=   9.2s\n",
            "[CV 4/5] END ...C=100, gamma=0.1, kernel=linear;, score=0.962 total time=   5.2s\n",
            "[CV 5/5] END ...C=100, gamma=0.1, kernel=linear;, score=0.949 total time=  14.7s\n",
            "[CV 1/5] END .....C=100, gamma=0.01, kernel=rbf;, score=0.625 total time=   0.0s\n",
            "[CV 2/5] END .....C=100, gamma=0.01, kernel=rbf;, score=0.625 total time=   0.0s\n",
            "[CV 3/5] END .....C=100, gamma=0.01, kernel=rbf;, score=0.625 total time=   0.0s\n",
            "[CV 4/5] END .....C=100, gamma=0.01, kernel=rbf;, score=0.620 total time=   0.0s\n",
            "[CV 5/5] END .....C=100, gamma=0.01, kernel=rbf;, score=0.646 total time=   0.0s\n",
            "[CV 1/5] END ..C=100, gamma=0.01, kernel=linear;, score=0.950 total time=   1.2s\n",
            "[CV 2/5] END ..C=100, gamma=0.01, kernel=linear;, score=0.950 total time=   4.5s\n",
            "[CV 3/5] END ..C=100, gamma=0.01, kernel=linear;, score=0.938 total time=   9.3s\n",
            "[CV 4/5] END ..C=100, gamma=0.01, kernel=linear;, score=0.962 total time=   5.3s\n",
            "[CV 5/5] END ..C=100, gamma=0.01, kernel=linear;, score=0.949 total time=  14.7s\n",
            "[CV 1/5] END ....C=100, gamma=0.001, kernel=rbf;, score=0.887 total time=   0.0s\n",
            "[CV 2/5] END ....C=100, gamma=0.001, kernel=rbf;, score=0.887 total time=   0.0s\n",
            "[CV 3/5] END ....C=100, gamma=0.001, kernel=rbf;, score=0.875 total time=   0.0s\n",
            "[CV 4/5] END ....C=100, gamma=0.001, kernel=rbf;, score=0.886 total time=   0.0s\n",
            "[CV 5/5] END ....C=100, gamma=0.001, kernel=rbf;, score=0.873 total time=   0.0s\n",
            "[CV 1/5] END .C=100, gamma=0.001, kernel=linear;, score=0.950 total time=   1.2s\n",
            "[CV 2/5] END .C=100, gamma=0.001, kernel=linear;, score=0.950 total time=   4.4s\n",
            "[CV 3/5] END .C=100, gamma=0.001, kernel=linear;, score=0.938 total time=   9.2s\n",
            "[CV 4/5] END .C=100, gamma=0.001, kernel=linear;, score=0.962 total time=   5.2s\n",
            "[CV 5/5] END .C=100, gamma=0.001, kernel=linear;, score=0.949 total time=  14.6s\n",
            "[CV 1/5] END ...C=100, gamma=0.0001, kernel=rbf;, score=0.925 total time=   0.0s\n",
            "[CV 2/5] END ...C=100, gamma=0.0001, kernel=rbf;, score=0.887 total time=   0.0s\n",
            "[CV 3/5] END ...C=100, gamma=0.0001, kernel=rbf;, score=0.925 total time=   0.0s\n",
            "[CV 4/5] END ...C=100, gamma=0.0001, kernel=rbf;, score=0.899 total time=   0.0s\n",
            "[CV 5/5] END ...C=100, gamma=0.0001, kernel=rbf;, score=0.899 total time=   0.0s\n",
            "[CV 1/5] END C=100, gamma=0.0001, kernel=linear;, score=0.950 total time=   1.2s\n",
            "[CV 2/5] END C=100, gamma=0.0001, kernel=linear;, score=0.950 total time=   4.4s\n",
            "[CV 3/5] END C=100, gamma=0.0001, kernel=linear;, score=0.938 total time=   9.2s\n",
            "[CV 4/5] END C=100, gamma=0.0001, kernel=linear;, score=0.962 total time=   5.3s\n",
            "[CV 5/5] END C=100, gamma=0.0001, kernel=linear;, score=0.949 total time=  14.7s\n",
            "[CV 1/5] END .......C=1000, gamma=1, kernel=rbf;, score=0.625 total time=   0.0s\n",
            "[CV 2/5] END .......C=1000, gamma=1, kernel=rbf;, score=0.625 total time=   0.0s\n",
            "[CV 3/5] END .......C=1000, gamma=1, kernel=rbf;, score=0.625 total time=   0.0s\n",
            "[CV 4/5] END .......C=1000, gamma=1, kernel=rbf;, score=0.620 total time=   0.0s\n",
            "[CV 5/5] END .......C=1000, gamma=1, kernel=rbf;, score=0.633 total time=   0.0s\n",
            "[CV 1/5] END ....C=1000, gamma=1, kernel=linear;, score=0.950 total time=   1.4s\n",
            "[CV 2/5] END ....C=1000, gamma=1, kernel=linear;, score=0.925 total time=   8.0s\n",
            "[CV 3/5] END ....C=1000, gamma=1, kernel=linear;, score=0.925 total time=   2.4s\n",
            "[CV 4/5] END ....C=1000, gamma=1, kernel=linear;, score=0.949 total time=   4.1s\n",
            "[CV 5/5] END ....C=1000, gamma=1, kernel=linear;, score=0.949 total time=  15.7s\n",
            "[CV 1/5] END .....C=1000, gamma=0.1, kernel=rbf;, score=0.625 total time=   0.0s\n",
            "[CV 2/5] END .....C=1000, gamma=0.1, kernel=rbf;, score=0.625 total time=   0.0s\n",
            "[CV 3/5] END .....C=1000, gamma=0.1, kernel=rbf;, score=0.625 total time=   0.0s\n",
            "[CV 4/5] END .....C=1000, gamma=0.1, kernel=rbf;, score=0.620 total time=   0.0s\n",
            "[CV 5/5] END .....C=1000, gamma=0.1, kernel=rbf;, score=0.633 total time=   0.0s\n",
            "[CV 1/5] END ..C=1000, gamma=0.1, kernel=linear;, score=0.950 total time=   1.4s\n",
            "[CV 2/5] END ..C=1000, gamma=0.1, kernel=linear;, score=0.925 total time=   8.0s\n",
            "[CV 3/5] END ..C=1000, gamma=0.1, kernel=linear;, score=0.925 total time=   2.4s\n",
            "[CV 4/5] END ..C=1000, gamma=0.1, kernel=linear;, score=0.949 total time=   4.1s\n",
            "[CV 5/5] END ..C=1000, gamma=0.1, kernel=linear;, score=0.949 total time=  15.5s\n",
            "[CV 1/5] END ....C=1000, gamma=0.01, kernel=rbf;, score=0.625 total time=   0.0s\n",
            "[CV 2/5] END ....C=1000, gamma=0.01, kernel=rbf;, score=0.625 total time=   0.0s\n",
            "[CV 3/5] END ....C=1000, gamma=0.01, kernel=rbf;, score=0.625 total time=   0.0s\n",
            "[CV 4/5] END ....C=1000, gamma=0.01, kernel=rbf;, score=0.620 total time=   0.0s\n",
            "[CV 5/5] END ....C=1000, gamma=0.01, kernel=rbf;, score=0.646 total time=   0.0s\n",
            "[CV 1/5] END .C=1000, gamma=0.01, kernel=linear;, score=0.950 total time=   1.4s\n",
            "[CV 2/5] END .C=1000, gamma=0.01, kernel=linear;, score=0.925 total time=   8.0s\n",
            "[CV 3/5] END .C=1000, gamma=0.01, kernel=linear;, score=0.925 total time=   2.4s\n",
            "[CV 4/5] END .C=1000, gamma=0.01, kernel=linear;, score=0.949 total time=   4.1s\n",
            "[CV 5/5] END .C=1000, gamma=0.01, kernel=linear;, score=0.949 total time=  15.6s\n",
            "[CV 1/5] END ...C=1000, gamma=0.001, kernel=rbf;, score=0.887 total time=   0.0s\n",
            "[CV 2/5] END ...C=1000, gamma=0.001, kernel=rbf;, score=0.887 total time=   0.0s\n",
            "[CV 3/5] END ...C=1000, gamma=0.001, kernel=rbf;, score=0.875 total time=   0.0s\n",
            "[CV 4/5] END ...C=1000, gamma=0.001, kernel=rbf;, score=0.886 total time=   0.0s\n",
            "[CV 5/5] END ...C=1000, gamma=0.001, kernel=rbf;, score=0.873 total time=   0.0s\n",
            "[CV 1/5] END C=1000, gamma=0.001, kernel=linear;, score=0.950 total time=   1.4s\n",
            "[CV 2/5] END C=1000, gamma=0.001, kernel=linear;, score=0.925 total time=   8.0s\n",
            "[CV 3/5] END C=1000, gamma=0.001, kernel=linear;, score=0.925 total time=   2.4s\n",
            "[CV 4/5] END C=1000, gamma=0.001, kernel=linear;, score=0.949 total time=   4.2s\n",
            "[CV 5/5] END C=1000, gamma=0.001, kernel=linear;, score=0.949 total time=  15.5s\n",
            "[CV 1/5] END ..C=1000, gamma=0.0001, kernel=rbf;, score=0.912 total time=   0.0s\n",
            "[CV 2/5] END ..C=1000, gamma=0.0001, kernel=rbf;, score=0.875 total time=   0.0s\n",
            "[CV 3/5] END ..C=1000, gamma=0.0001, kernel=rbf;, score=0.912 total time=   0.0s\n",
            "[CV 4/5] END ..C=1000, gamma=0.0001, kernel=rbf;, score=0.911 total time=   0.0s\n",
            "[CV 5/5] END ..C=1000, gamma=0.0001, kernel=rbf;, score=0.911 total time=   0.0s\n",
            "[CV 1/5] END C=1000, gamma=0.0001, kernel=linear;, score=0.950 total time=   1.4s\n",
            "[CV 2/5] END C=1000, gamma=0.0001, kernel=linear;, score=0.925 total time=   7.9s\n",
            "[CV 3/5] END C=1000, gamma=0.0001, kernel=linear;, score=0.925 total time=   2.3s\n",
            "[CV 4/5] END C=1000, gamma=0.0001, kernel=linear;, score=0.949 total time=   4.2s\n",
            "[CV 5/5] END C=1000, gamma=0.0001, kernel=linear;, score=0.949 total time=  15.5s\n"
          ]
        },
        {
          "output_type": "execute_result",
          "data": {
            "text/plain": [
              "GridSearchCV(estimator=SVC(),\n",
              "             param_grid={'C': [0.1, 1, 10, 100, 1000],\n",
              "                         'gamma': [1, 0.1, 0.01, 0.001, 0.0001],\n",
              "                         'kernel': ['rbf', 'linear']},\n",
              "             verbose=3)"
            ]
          },
          "metadata": {},
          "execution_count": 9
        }
      ]
    },
    {
      "cell_type": "code",
      "metadata": {
        "colab": {
          "base_uri": "https://localhost:8080/"
        },
        "id": "ZfxcwgVZf_Xb",
        "outputId": "fa5f37e3-add4-4ca0-abf3-efaa7f58f11d"
      },
      "source": [
        "# print best parameter after tuning\n",
        "print(grid.best_params_)\n",
        " \n",
        "# print how our model looks after hyper-parameter tuning\n",
        "print(grid.best_estimator_)\n"
      ],
      "execution_count": 10,
      "outputs": [
        {
          "output_type": "stream",
          "name": "stdout",
          "text": [
            "{'C': 100, 'gamma': 1, 'kernel': 'linear'}\n",
            "SVC(C=100, gamma=1, kernel='linear')\n"
          ]
        }
      ]
    },
    {
      "cell_type": "code",
      "metadata": {
        "colab": {
          "base_uri": "https://localhost:8080/"
        },
        "id": "L1lT2bArgLwE",
        "outputId": "d5851da6-ae8e-4cac-fbb1-b2d6fea1cc6d"
      },
      "source": [
        "grid_predictions = grid.predict(X_test)\n",
        " \n",
        "# print classification report\n",
        "print(classification_report(y_test, grid_predictions))\n"
      ],
      "execution_count": 11,
      "outputs": [
        {
          "output_type": "stream",
          "name": "stdout",
          "text": [
            "              precision    recall  f1-score   support\n",
            "\n",
            "           0       0.94      0.98      0.96        63\n",
            "           1       0.99      0.96      0.98       108\n",
            "\n",
            "    accuracy                           0.97       171\n",
            "   macro avg       0.96      0.97      0.97       171\n",
            "weighted avg       0.97      0.97      0.97       171\n",
            "\n"
          ]
        }
      ]
    }
  ]
}