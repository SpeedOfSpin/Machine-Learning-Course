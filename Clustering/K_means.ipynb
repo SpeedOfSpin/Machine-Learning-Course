{
  "nbformat": 4,
  "nbformat_minor": 0,
  "metadata": {
    "colab": {
      "name": " K-means.ipynb",
      "provenance": [],
      "authorship_tag": "ABX9TyNxfS7HJbVBf0iUMoPN2C3k",
      "include_colab_link": true
    },
    "kernelspec": {
      "name": "python3",
      "display_name": "Python 3"
    }
  },
  "cells": [
    {
      "cell_type": "markdown",
      "metadata": {
        "id": "view-in-github",
        "colab_type": "text"
      },
      "source": [
        "<a href=\"https://colab.research.google.com/github/besherh/Machine-Learning-Course/blob/master/Clustering/K_means.ipynb\" target=\"_parent\"><img src=\"https://colab.research.google.com/assets/colab-badge.svg\" alt=\"Open In Colab\"/></a>"
      ]
    },
    {
      "cell_type": "code",
      "metadata": {
        "id": "PVhL2vkEF03x"
      },
      "source": [
        "#importing the libraries\n",
        "import numpy as np\n",
        "import matplotlib.pyplot as plt\n",
        "import pandas as pd\n"
      ],
      "execution_count": 18,
      "outputs": []
    },
    {
      "cell_type": "code",
      "metadata": {
        "id": "qu72FamYGejv"
      },
      "source": [
        "#load the dataset \n",
        "#download the dataset from our Github page\n",
        "#https://github.com/besherh/Machine-Learning-Course/blob/master/1-Introduction/data_sets/iris.csv\n",
        "\n",
        "iris = pd.read_csv(\"https://raw.githubusercontent.com/besherh/Machine-Learning-Course/master/1-Introduction/data_sets/Iris.csv\")"
      ],
      "execution_count": 19,
      "outputs": []
    },
    {
      "cell_type": "code",
      "metadata": {
        "colab": {
          "base_uri": "https://localhost:8080/"
        },
        "id": "e2CRkrRlGw0s",
        "outputId": "7056bc02-3bdd-4cb2-e2f8-1609087d6f84"
      },
      "source": [
        "iris.shape"
      ],
      "execution_count": 26,
      "outputs": [
        {
          "output_type": "execute_result",
          "data": {
            "text/plain": [
              "(150, 6)"
            ]
          },
          "metadata": {},
          "execution_count": 26
        }
      ]
    },
    {
      "cell_type": "code",
      "metadata": {
        "id": "-Afm4gkzNRAs"
      },
      "source": [
        "#building the input for the model ( 4 attributes :SepalLengthCm,SepalWidthCm,PetalLengthCm,PetalWidthCm )\n",
        "x = iris.iloc[:, [1, 2, 3, 4]].values\n"
      ],
      "execution_count": 27,
      "outputs": []
    },
    {
      "cell_type": "markdown",
      "metadata": {
        "id": "NUW7RGNNGPwb"
      },
      "source": [
        "Now we will implement 'The elbow method' on the Iris dataset. The elbow method allows us to pick the optimal number of clusters. Although we already know the answer is 3 it is still interesting to run ( we have three sepcies in the dataset: setosa,versicolor and virginica)\n",
        "\n"
      ]
    },
    {
      "cell_type": "code",
      "metadata": {
        "colab": {
          "base_uri": "https://localhost:8080/",
          "height": 295
        },
        "id": "Vw3QpLxBGdzD",
        "outputId": "7a4ce297-36ce-4d0f-d55a-4e8eec6878c6"
      },
      "source": [
        "#Finding the optimum number of clusters for k-means classification\n",
        "from sklearn.cluster import KMeans\n",
        "wcss = []\n",
        "\n",
        "for i in range(1, 11):\n",
        "    # refer to \n",
        "    #https://scikit-learn.org/stable/modules/generated/sklearn.cluster.KMeans.html\n",
        "    # to check the params of KMeans and the meaning for each one\n",
        "    kmeans = KMeans(n_clusters = i, init = 'k-means++')\n",
        "    kmeans.fit(x)\n",
        "    wcss.append(kmeans.inertia_)\n",
        "    \n",
        "#Plotting the results onto a line graph, allowing us to observe 'The elbow'\n",
        "plt.plot(range(1, 11), wcss)\n",
        "plt.title('The elbow method')\n",
        "plt.xlabel('Number of clusters')\n",
        "plt.ylabel('WCSS') #within cluster sum of squares\n",
        "plt.show()\n"
      ],
      "execution_count": 22,
      "outputs": [
        {
          "output_type": "display_data",
          "data": {
            "image/png": "[encoded data removed]",
            "text/plain": [
              "<Figure size 432x288 with 1 Axes>"
            ]
          },
          "metadata": {
            "needs_background": "light"
          }
        }
      ]
    },
    {
      "cell_type": "markdown",
      "metadata": {
        "id": "CMYJNaIZNyzA"
      },
      "source": [
        "You can clearly see why it is called 'The elbow method' from the above graph, the optimum clusters is where the elbow occurs. This is when the within cluster sum of squares (WCSS) doesn't decrease significantly with every iteration. Now that we have the optimum amount of clusters, we can move on to applying K-means clustering to the Iris dataset.\n",
        "\n"
      ]
    },
    {
      "cell_type": "code",
      "metadata": {
        "id": "41We9vbDNzqS"
      },
      "source": [
        "#Applying kmeans to the dataset / Creating the kmeans classifier\n",
        "kmeans = KMeans(n_clusters = 3, init = 'k-means++')\n",
        "y_kmeans = kmeans.fit_predict(x)\n"
      ],
      "execution_count": 28,
      "outputs": []
    },
    {
      "cell_type": "code",
      "metadata": {
        "colab": {
          "base_uri": "https://localhost:8080/"
        },
        "id": "LaWdkNhbQ2cD",
        "outputId": "80c7c072-ffe3-4e05-f2a9-b3b011372314"
      },
      "source": [
        "#generated cluster\n",
        "print(y_kmeans)"
      ],
      "execution_count": 31,
      "outputs": [
        {
          "output_type": "stream",
          "name": "stdout",
          "text": [
            "[0 0 0 0 0 0 0 0 0 0 0 0 0 0 0 0 0 0 0 0 0 0 0 0 0 0 0 0 0 0 0 0 0 0 0 0 0\n",
            " 0 0 0 0 0 0 0 0 0 0 0 0 0 1 1 2 1 1 1 1 1 1 1 1 1 1 1 1 1 1 1 1 1 1 1 1 1\n",
            " 1 1 1 2 1 1 1 1 1 1 1 1 1 1 1 1 1 1 1 1 1 1 1 1 1 1 2 1 2 2 2 2 1 2 2 2 2\n",
            " 2 2 1 1 2 2 2 2 1 2 1 2 1 2 2 1 1 2 2 2 2 2 1 2 2 2 2 1 2 2 2 1 2 2 2 1 2\n",
            " 2 1]\n"
          ]
        }
      ]
    },
    {
      "cell_type": "code",
      "metadata": {
        "id": "5Ri5bX9Tjwbd",
        "outputId": "8e127ed8-66b6-4314-abbe-bbedcc82ffed",
        "colab": {
          "base_uri": "https://localhost:8080/",
          "height": 322
        }
      },
      "source": [
        "print(kmeans.cluster_centers_) #display cluster centers\n",
        "plt.scatter(x[y_kmeans   == 0, 0], x[y_kmeans == 0, 1], c = 'red', label = 'Iris-setosa')\n",
        "plt.scatter(x[y_kmeans   == 1, 0], x[y_kmeans == 1, 1], c = 'blue', label = 'Iris-versicolour')\n",
        "plt.scatter(x[y_kmeans   == 2, 0], x[y_kmeans == 2, 1], c = 'green', label = 'Iris-virginica')   #Visualising the clusters - On the first two columns\n",
        "plt.legend()\n",
        "plt.show()\n"
      ],
      "execution_count": 32,
      "outputs": [
        {
          "output_type": "stream",
          "name": "stdout",
          "text": [
            "[[5.006      3.418      1.464      0.244     ]\n",
            " [5.9016129  2.7483871  4.39354839 1.43387097]\n",
            " [6.85       3.07368421 5.74210526 2.07105263]]\n"
          ]
        },
        {
          "output_type": "display_data",
          "data": {
            "image/png": "[encoded data removed]",
            "text/plain": [
              "<Figure size 432x288 with 1 Axes>"
            ]
          },
          "metadata": {
            "needs_background": "light"
          }
        }
      ]
    }
  ]
}