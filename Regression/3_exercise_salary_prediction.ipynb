{
  "nbformat": 4,
  "nbformat_minor": 0,
  "metadata": {
    "colab": {
      "name": "3.exercise_salary_prediction",
      "provenance": [],
      "authorship_tag": "ABX9TyO87HEXpQzTXEAb3YMgRcjT",
      "include_colab_link": true
    },
    "kernelspec": {
      "name": "python3",
      "display_name": "Python 3"
    }
  },
  "cells": [
    {
      "cell_type": "markdown",
      "metadata": {
        "id": "view-in-github",
        "colab_type": "text"
      },
      "source": [
        "<a href=\"https://colab.research.google.com/github/besherh/Machine-Learning-Course/blob/master/Regression/3_exercise_salary_prediction.ipynb\" target=\"_parent\"><img src=\"https://colab.research.google.com/assets/colab-badge.svg\" alt=\"Open In Colab\"/></a>"
      ]
    },
    {
      "cell_type": "markdown",
      "metadata": {
        "id": "MKEi27voZrus"
      },
      "source": [
        "In this exercise, you are going to develop a regression model to estimate the salary based on the years of experience.\n",
        "You can refer to the dataset here:\n",
        "\n",
        "https://www.kaggle.com/vihansp/salary-data"
      ]
    },
    {
      "cell_type": "code",
      "metadata": {
        "id": "giw0Es9onfgS"
      },
      "source": [
        "import pandas as pd\n",
        "import numpy as np\n",
        "import matplotlib.pyplot as plt\n",
        "\n",
        "from sklearn.model_selection import train_test_split\n",
        "from sklearn.linear_model import LinearRegression \n"
      ],
      "execution_count": null,
      "outputs": []
    },
    {
      "cell_type": "code",
      "metadata": {
        "id": "PQWvgRzDnkeE"
      },
      "source": [
        "#read the dataset\n",
        "#show first 5 rows\n"
      ],
      "execution_count": null,
      "outputs": []
    },
    {
      "cell_type": "code",
      "metadata": {
        "id": "BRc9A_Slns3d"
      },
      "source": [
        "#develop your regression model\n",
        "\n",
        "#plot your results \n"
      ],
      "execution_count": null,
      "outputs": []
    }
  ]
}