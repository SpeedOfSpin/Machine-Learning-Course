{
  "cells": [
    {
      "cell_type": "markdown",
      "metadata": {
        "colab_type": "text",
        "id": "view-in-github"
      },
      "source": [
        "<a href=\"https://colab.research.google.com/github/besherh/Machine-Learning-Course/blob/master/Regression/Simple_Linear_Regression_With_scikit_learn.ipynb\" target=\"_parent\"><img src=\"https://colab.research.google.com/assets/colab-badge.svg\" alt=\"Open In Colab\"/></a>"
      ]
    },
    {
      "cell_type": "markdown",
      "metadata": {
        "id": "fyazgqdVRhc-"
      },
      "source": [
        "## Introduction\n",
        "\n",
        "Think of linear regression like drawing a \"line of best fit\" through a scatter plot of points. Just like how a trendline can show if ice cream sales go up with temperature, linear regression helps us understand and predict relationships between variables.\n",
        "\n",
        "### Step 1: Importing the Required Tools\n",
        "\n",
        "\n",
        "\n"
      ]
    },
    {
      "cell_type": "code",
      "execution_count": 1,
      "metadata": {
        "id": "U09j3yKdRdSo"
      },
      "outputs": [],
      "source": [
        "import numpy as np\n",
        "from sklearn.linear_model import LinearRegression\n"
      ]
    },
    {
      "cell_type": "markdown",
      "metadata": {
        "id": "ylUn_an1Ru9B"
      },
      "source": [
        "\n",
        "Think of this like gathering your tools before starting a home improvement project:\n",
        "\n",
        "\n",
        "- `numpy` is like your toolbox - it contains all the basic tools for working with numbers and arrays\n",
        "\n",
        "- `LinearRegression` is like your specialized tool (think of it as a smart level that not only shows if something is straight but also tells you exactly how to make it straight)\n",
        "\n",
        "\n",
        "### Step 2: Preparing Your Data\n",
        "\n",
        "This is like organizing your data into two columns in a spreadsheet:\n",
        "\n",
        "- `x` represents your independent variable (like hours studied)\n",
        "\n",
        "- `y` represents your dependent variable (like test scores)\n",
        "\n",
        "The `.reshape((-1, 1))` part is crucial because scikit-learn expects data in a specific format. Think of it like this:\n",
        "\n",
        "- A 1D array is like a single row of numbers: `[1, 2, 3]`\n",
        "\n",
        "- A 2D array is like a spreadsheet with rows and columns: `[[1], [2], [3]]`\n",
        "\n",
        "- The `-1` tells numpy \"figure out how many rows I need automatically\"\n",
        "\n",
        "- The `1` means \"I want one column\""
      ]
    },
    {
      "cell_type": "code",
      "execution_count": 2,
      "metadata": {
        "id": "p6kU2bxhRyuB"
      },
      "outputs": [],
      "source": [
        "x = np.array([5, 15, 25, 35, 45, 55]).reshape((-1, 1))\n",
        "y = np.array([5, 20, 14, 32, 22, 38])\n"
      ]
    },
    {
      "cell_type": "markdown",
      "metadata": {
        "id": "nV5N2p0IR1za"
      },
      "source": [
        "Now, you have two arrays: the input x and output y. You should call .reshape() on x because this array is required to be two-dimensional, or to be more precise, to have one column and as many rows as necessary. That’s exactly what the argument (-1, 1) of .reshape() specifies.\n",
        "\n",
        "This is how x and y look now:\n",
        "\n"
      ]
    },
    {
      "cell_type": "code",
      "execution_count": 3,
      "metadata": {
        "colab": {
          "base_uri": "https://localhost:8080/"
        },
        "id": "e0caPcqlR6cU",
        "outputId": "a46fde4d-e802-46dd-f567-40327a472a9a"
      },
      "outputs": [
        {
          "name": "stdout",
          "output_type": "stream",
          "text": [
            "[[ 5]\n",
            " [15]\n",
            " [25]\n",
            " [35]\n",
            " [45]\n",
            " [55]]\n"
          ]
        }
      ],
      "source": [
        "print(x)"
      ]
    },
    {
      "cell_type": "code",
      "execution_count": 4,
      "metadata": {
        "colab": {
          "base_uri": "https://localhost:8080/"
        },
        "id": "IJDfJMpGR8I2",
        "outputId": "40d61166-36ec-41d7-9cfc-2735ab48959e"
      },
      "outputs": [
        {
          "name": "stdout",
          "output_type": "stream",
          "text": [
            "[ 5 20 14 32 22 38]\n"
          ]
        }
      ],
      "source": [
        "print(y)"
      ]
    },
    {
      "cell_type": "markdown",
      "metadata": {
        "id": "sOWgIXAZSCak"
      },
      "source": [
        "\n",
        "### Step 3: Creating and Fitting the Model\n"
      ]
    },
    {
      "cell_type": "code",
      "execution_count": 5,
      "metadata": {
        "id": "gvzbVXsbSHJd"
      },
      "outputs": [],
      "source": [
        "model = LinearRegression()\n",
        "model.fit(x, y)"
      ]
    },
    {
      "cell_type": "markdown",
      "metadata": {
        "id": "FkiS0dhwSM4M"
      },
      "source": [
        "This is like teaching a student (our model) by showing examples:\n",
        "\n",
        "- Creating the model (model = LinearRegression()) is like getting a blank notebook ready\n",
        "\n",
        "- Fitting the model (.fit(x, y)) is like showing the student many examples of input-output pairs so they can learn the pattern\n",
        "\n",
        "The LinearRegression() parameters have important meanings:\n",
        "- fit_intercept=True: Allows the line to start at any point on the y-axis (imagine a line that doesn't have to go through (0,0))\n",
        "\n",
        "- normalize=False: Decides whether to scale your data first (like converting feet to meters)\n",
        "\n",
        "- copy_X=True: Makes a safety copy of your data (like backing up your work)"
      ]
    },
    {
      "cell_type": "markdown",
      "metadata": {
        "id": "1lu6oXCXSWFq"
      },
      "source": [
        "With .fit(), you calculate the optimal values of the weights 𝑏₀ and 𝑏₁, using the existing input and output (x and y) as the arguments. In other words, .fit() fits the model. It returns self, which is the variable model itself. That’s why you can replace the last two statements with this one:\n",
        "\n"
      ]
    },
    {
      "cell_type": "code",
      "execution_count": 7,
      "metadata": {
        "id": "JxUZ9xGfSY7X"
      },
      "outputs": [],
      "source": [
        "model = LinearRegression().fit(x, y)\n"
      ]
    },
    {
      "cell_type": "markdown",
      "metadata": {
        "id": "AuwskBxFSefI"
      },
      "source": [
        "This statement does the same thing as the previous two. It’s just shorter.\n",
        "\n",
        "### Step 4: Get results\n",
        "\n",
        "This is like grading how well your model learned:\n",
        "- The R² score (coefficient of determination) is like a grade from 0 to 1\n",
        "    - 1 means perfect predictions\n",
        "    - 0 means the model failed to learn anything useful\n",
        "\n",
        "- The intercept is where your line crosses the y-axis (like your starting point)\n",
        "- The slope tells you how much y changes when x increases by 1 (like the rate of improvement)\n",
        "\n"
      ]
    },
    {
      "cell_type": "code",
      "execution_count": 8,
      "metadata": {
        "colab": {
          "base_uri": "https://localhost:8080/"
        },
        "id": "hWbBmHSuSizm",
        "outputId": "e0a0b6de-9a24-4001-de96-a6ffe8cbcb17"
      },
      "outputs": [
        {
          "name": "stdout",
          "output_type": "stream",
          "text": [
            "coefficient of determination: 0.7158756137479542\n"
          ]
        }
      ],
      "source": [
        "r_sq = model.score(x, y)\n",
        "print('coefficient of determination:', r_sq)"
      ]
    },
    {
      "cell_type": "markdown",
      "metadata": {
        "id": "TpPguGnKSn0g"
      },
      "source": [
        "When you’re applying .score(), the arguments are also the predictor x and regressor y, and the return value is 𝑅².\n",
        "\n",
        "The attributes of model are .intercept_, which represents the coefficient, 𝑏₀ and .coef_, which represents 𝑏₁:\n",
        "\n"
      ]
    },
    {
      "cell_type": "code",
      "execution_count": 9,
      "metadata": {
        "colab": {
          "base_uri": "https://localhost:8080/"
        },
        "id": "_2zCoX2ESoXf",
        "outputId": "f41cb5f2-9118-46e5-b182-3cca82147159"
      },
      "outputs": [
        {
          "name": "stdout",
          "output_type": "stream",
          "text": [
            "intercept: 5.633333333333329\n"
          ]
        }
      ],
      "source": [
        "print('intercept:', model.intercept_)"
      ]
    },
    {
      "cell_type": "code",
      "execution_count": 10,
      "metadata": {
        "colab": {
          "base_uri": "https://localhost:8080/"
        },
        "id": "4ZoM6GZzStHh",
        "outputId": "e864e4a9-dc50-4137-d8e3-b368baea6b41"
      },
      "outputs": [
        {
          "name": "stdout",
          "output_type": "stream",
          "text": [
            "slope: [0.54]\n"
          ]
        }
      ],
      "source": [
        "print('slope:', model.coef_)"
      ]
    },
    {
      "cell_type": "markdown",
      "metadata": {
        "id": "71WNbSXyTDb9"
      },
      "source": [
        "print('slope:', model.coef_)\n",
        "\n",
        "The value 𝑏₀ = 5.63 (approximately) illustrates that your model predicts the response 5.63 when 𝑥 is zero. The value 𝑏₁ = 0.54 means that the predicted response rises by 0.54 when 𝑥 is increased by one.\n",
        "\n",
        "### Step 5: Predict response\n",
        "\n",
        "- Think of it like a recipe: once you know the relationship (recipe), you can predict the outcome (dish) for any input (ingredients)\n",
        "\n",
        "- The model uses the formula: y = mx + b\n",
        "    - Where m is the slope (model.coef_)\n",
        "    - And b is the intercept (model.intercept_)\n",
        "\n",
        "#### Real-world Example\n",
        "Imagine you're predicting house prices:\n",
        "- x could be house size in square feet\n",
        "- y could be house price in dollars\n",
        "- The slope would tell you how much more you pay for each additional square foot\n",
        "- The intercept would be like the base price for a theoretical 0 square foot house\n",
        "- R² would tell you how reliable these predictions are\n",
        "\n",
        "This makes linear regression a powerful tool for understanding relationships in data and making predictions based on those relationships.\n",
        "\n"
      ]
    },
    {
      "cell_type": "code",
      "execution_count": 11,
      "metadata": {
        "colab": {
          "base_uri": "https://localhost:8080/"
        },
        "id": "bUZXGdoTTJyi",
        "outputId": "66ef84c0-9d14-4375-f48b-302542939858"
      },
      "outputs": [
        {
          "name": "stdout",
          "output_type": "stream",
          "text": [
            "predicted response:\n",
            "[ 8.33333333 13.73333333 19.13333333 24.53333333 29.93333333 35.33333333]\n"
          ]
        }
      ],
      "source": [
        "y_pred = model.predict(x)\n",
        "print('predicted response:', y_pred, sep='\\n')"
      ]
    },
    {
      "cell_type": "markdown",
      "metadata": {
        "id": "pRwt8lkFTUn3"
      },
      "source": [
        "When applying .predict(), you pass the regressor as the argument and get the corresponding predicted response.\n",
        "\n"
      ]
    },
    {
      "cell_type": "code",
      "execution_count": 16,
      "metadata": {
        "colab": {
          "base_uri": "https://localhost:8080/"
        },
        "id": "79BEE-HjXwCg",
        "outputId": "8a0b8ced-85dc-4a3c-eb3b-f5d03acab900"
      },
      "outputs": [
        {
          "name": "stdout",
          "output_type": "stream",
          "text": [
            "[ 5 20 14 32 22 38]\n"
          ]
        }
      ],
      "source": [
        "print(y)"
      ]
    },
    {
      "cell_type": "code",
      "execution_count": 17,
      "metadata": {
        "colab": {
          "base_uri": "https://localhost:8080/"
        },
        "id": "BSDpDvcGXyu8",
        "outputId": "0fbbdace-6a71-4706-a1b6-361ff5179bb5"
      },
      "outputs": [
        {
          "name": "stdout",
          "output_type": "stream",
          "text": [
            "[ 8.33333333 13.73333333 19.13333333 24.53333333 29.93333333 35.33333333]\n"
          ]
        }
      ],
      "source": [
        "print(y_pred)"
      ]
    }
  ],
  "metadata": {
    "colab": {
      "authorship_tag": "ABX9TyOomc89GQX/NydN0NxwE1cR",
      "include_colab_link": true,
      "name": "Simple Linear Regression With scikit-learn.ipynb",
      "provenance": []
    },
    "kernelspec": {
      "display_name": "Python 3",
      "name": "python3"
    }
  },
  "nbformat": 4,
  "nbformat_minor": 0
}
